{
  "nbformat": 4,
  "nbformat_minor": 0,
  "metadata": {
    "kernelspec": {
      "display_name": "Python 3",
      "language": "python",
      "name": "python3"
    },
    "language_info": {
      "codemirror_mode": {
        "name": "ipython",
        "version": 3
      },
      "file_extension": ".py",
      "mimetype": "text/x-python",
      "name": "python",
      "nbconvert_exporter": "python",
      "pygments_lexer": "ipython3",
      "version": "3.7.6"
    },
    "colab": {
      "name": "XGBoost_tuned.ipynb",
      "provenance": [],
      "include_colab_link": true
    },
    "accelerator": "GPU"
  },
  "cells": [
    {
      "cell_type": "markdown",
      "metadata": {
        "id": "view-in-github",
        "colab_type": "text"
      },
      "source": [
        "<a href=\"https://colab.research.google.com/github/TBSantana/capstoneProjectUB/blob/main/XGBoost_tuned.ipynb\" target=\"_parent\"><img src=\"https://colab.research.google.com/assets/colab-badge.svg\" alt=\"Open In Colab\"/></a>"
      ]
    },
    {
      "cell_type": "code",
      "metadata": {
        "id": "_qSepQgwIi3s"
      },
      "source": [
        "#!pip install scikit-optimize"
      ],
      "execution_count": null,
      "outputs": []
    },
    {
      "cell_type": "code",
      "metadata": {
        "id": "AApTXW75VE2a"
      },
      "source": [
        "#!pip install xgboost"
      ],
      "execution_count": null,
      "outputs": []
    },
    {
      "cell_type": "code",
      "metadata": {
        "id": "Df8v6Ye2b46b"
      },
      "source": [
        "import pandas as pd\n",
        "import numpy as np\n",
        "from datetime import datetime\n",
        "import matplotlib.pyplot as plt\n",
        "%matplotlib inline\n",
        "\n",
        "import xgboost as xgb\n",
        "\n",
        "from sklearn.preprocessing import MinMaxScaler\n",
        "from sklearn.metrics import mean_absolute_error\n",
        "\n",
        "from skopt import gp_minimize"
      ],
      "execution_count": null,
      "outputs": []
    },
    {
      "cell_type": "code",
      "metadata": {
        "colab": {
          "base_uri": "https://localhost:8080/"
        },
        "id": "GKCcWvqlRgWR",
        "outputId": "485af73e-b661-4c45-f33e-ff85f4ca18ad"
      },
      "source": [
        "cols = ['year', 'month', 'CasosCovMes', 'CasosCovMesAnt',  'availability_30', 'availability_60']\n",
        "data = pd.read_csv('listings_transformed.csv.gz', usecols=cols)\n",
        "\n",
        "df = data.groupby(['year', 'month'], as_index=False).mean()\n",
        "df = df[['year', 'CasosCovMesAnt', 'CasosCovMes', 'availability_30', 'month', 'availability_60']]\n",
        "\n",
        "df['sin_month'] = np.sin(2 * np.pi * df['month'] / 12)\n",
        "df['cos_month'] = np.cos(2 * np.pi * df['month'] / 12)\n",
        "df = df.drop(columns=['month'])\n",
        "\n",
        "train = df.iloc[:25]\n",
        "val = df.iloc[25:]\n",
        "\n",
        "print('Train shape:', train.shape)\n",
        "print('Val shape:', val.shape)"
      ],
      "execution_count": null,
      "outputs": [
        {
          "output_type": "stream",
          "text": [
            "Train shape: (25, 7)\n",
            "Val shape: (3, 7)\n"
          ],
          "name": "stdout"
        }
      ]
    },
    {
      "cell_type": "code",
      "metadata": {
        "id": "bMCTE7kginCN"
      },
      "source": [
        "scaler = MinMaxScaler(feature_range=(-1, 1))\n",
        "scalerY = MinMaxScaler(feature_range=(-1, 1))\n",
        "\n",
        "scaler.fit(train)\n",
        "scalerY.fit(train['availability_60'].values.reshape(-1, 1));"
      ],
      "execution_count": null,
      "outputs": []
    },
    {
      "cell_type": "code",
      "metadata": {
        "id": "HIvb8iL3mmkN"
      },
      "source": [
        "def prep_seqs(df, scalerX, scalerY, l=3, h=3):\n",
        "    X = []\n",
        "    Y = []\n",
        "    for i in range(l, df.shape[0]-h):\n",
        "        f = df.iloc[i-l:i]\n",
        "        y = df.iloc[i:i+h]['availability_60'] \n",
        "\n",
        "        X.append(scalerX.transform(f))\n",
        "        Y.append(scalerY.transform(y.values.reshape(-1, 1)))\n",
        "\n",
        "    X = np.array(X)\n",
        "    Y = np.array(Y)\n",
        "\n",
        "    X = np.swapaxes(X, 0, 1)\n",
        "    \n",
        "    return torch.from_numpy(X).float(), torch.from_numpy(Y).float().squeeze()"
      ],
      "execution_count": null,
      "outputs": []
    },
    {
      "cell_type": "code",
      "metadata": {
        "colab": {
          "base_uri": "https://localhost:8080/"
        },
        "id": "YGhmTtCxcRoM",
        "outputId": "59b75b13-8c4e-4cdb-bf74-988c1f64ad1b"
      },
      "source": [
        "X, Y = prep_seqs(train, scaler, scalerY)\n",
        "\n",
        "xval = df.iloc[-6:-3]\n",
        "Xt = scaler.transform(xval.values)\n",
        "Xt = np.expand_dims(Xt, axis=1)\n",
        "Xt = torch.from_numpy(Xt).float()\n",
        "\n",
        "yval = df.iloc[-3:]['availability_60']\n",
        "Yt = scalerY.transform(yval.values.reshape(-1, 1))\n",
        "Yt = torch.from_numpy(Yt).float().squeeze()\n",
        "\n",
        "X = X.cuda()\n",
        "Y = Y.cuda()\n",
        "\n",
        "Xt = Xt.cuda()\n",
        "\n",
        "print('X shape: {} and Y shape: {}'.format(X.shape, Y.shape))\n",
        "print('Xt shape: {} and Yt shape: {}'.format(Xt.shape, Yt.shape))\n",
        "# X shape is (steps, samples, features)"
      ],
      "execution_count": null,
      "outputs": [
        {
          "output_type": "stream",
          "text": [
            "X shape: torch.Size([3, 15, 7]) and Y shape: torch.Size([15, 3])\n",
            "Xt shape: torch.Size([3, 1, 7]) and Yt shape: torch.Size([3])\n"
          ],
          "name": "stdout"
        }
      ]
    },
    {
      "cell_type": "code",
      "metadata": {
        "id": "aEocdhYgb46i"
      },
      "source": [
        "class LSTMRNN(nn.Module):\n",
        "    def __init__(self, hidden_size, input_size):\n",
        "        super(LSTMRNN, self).__init__()\n",
        "        self.input_size = input_size\n",
        "        self.hidden_size = hidden_size\n",
        "        self.lstm = nn.LSTM(self.input_size, self.hidden_size)\n",
        "        self.out = nn.Linear(self.hidden_size, 3)\n",
        "        \n",
        "    def forward(self, input):\n",
        "        output, _ = self.lstm(input)\n",
        "        output = output[-1, :, :]\n",
        "        output = self.out(output) \n",
        "        return output    "
      ],
      "execution_count": null,
      "outputs": []
    },
    {
      "cell_type": "code",
      "metadata": {
        "id": "kdeRWSJpb46m",
        "colab": {
          "base_uri": "https://localhost:8080/"
        },
        "outputId": "f2c2b2ff-34af-45c4-9a9a-47baa3c29700"
      },
      "source": [
        "%%time\n",
        "n_seeds = 10\n",
        "total_p = np.zeros((Yt.shape[0], 1, n_seeds))\n",
        "\n",
        "for seed in range(n_seeds):\n",
        "  torch.manual_seed(seed)\n",
        "  np.random.seed(seed)\n",
        "\n",
        "  lstm = LSTMRNN(100, X.shape[-1]).cuda()\n",
        "\n",
        "  criterion = nn.L1Loss()\n",
        "  lstm_optimizer = optim.Adam(lstm.parameters(), lr=1e-3)\n",
        "\n",
        "  for i in range(10):\n",
        "      lstm.zero_grad()\n",
        "      \n",
        "      o = lstm(X)\n",
        "      loss = criterion(o, Y)\n",
        "      loss.backward()\n",
        "      lstm_optimizer.step()\n",
        "      \n",
        "      p = lstm(Xt)\n",
        "      p = p.detach().cpu()\n",
        "  \n",
        "  y_real = scalerY.inverse_transform(Yt.numpy().reshape(-1, 1))\n",
        "  y_hat = scalerY.inverse_transform(p.numpy().reshape(-1, 1))\n",
        "  error = mean_absolute_error(y_real, y_hat)\n",
        "  total_p[:, :, seed] = error\n",
        "\n",
        "  print('Seed {} - Error: {:.3f}'.format(seed, error))\n",
        "\n",
        "avg_seed_error = total_p.mean(axis=-1)\n",
        "\n",
        "print('\\nEnsemble Avg Score = {:.3f}\\n'.format(avg_seed_error[0][0]))"
      ],
      "execution_count": null,
      "outputs": [
        {
          "output_type": "stream",
          "text": [
            "Seed 0 - Error: 1.712\n",
            "Seed 1 - Error: 2.655\n",
            "Seed 2 - Error: 2.870\n",
            "Seed 3 - Error: 2.225\n",
            "Seed 4 - Error: 2.908\n",
            "Seed 5 - Error: 1.822\n",
            "Seed 6 - Error: 1.916\n",
            "Seed 7 - Error: 2.918\n",
            "Seed 8 - Error: 1.373\n",
            "Seed 9 - Error: 1.141\n",
            "\n",
            "Ensemble Avg Score = 2.154\n",
            "\n",
            "CPU times: user 247 ms, sys: 12.8 ms, total: 260 ms\n",
            "Wall time: 450 ms\n"
          ],
          "name": "stdout"
        }
      ]
    },
    {
      "cell_type": "code",
      "metadata": {
        "id": "0MoOx7hXFIf1",
        "colab": {
          "base_uri": "https://localhost:8080/",
          "height": 142
        },
        "outputId": "b00b7c74-7f0d-4c11-d59c-ab9f85a82a9b"
      },
      "source": [
        "ndf = pd.DataFrame({'y_real': y_real[:,0], 'y_hat': y_hat[:,0]}, index=np.arange(y_hat.shape[0]))\n",
        "ndf"
      ],
      "execution_count": null,
      "outputs": [
        {
          "output_type": "execute_result",
          "data": {
            "text/html": [
              "<div>\n",
              "<style scoped>\n",
              "    .dataframe tbody tr th:only-of-type {\n",
              "        vertical-align: middle;\n",
              "    }\n",
              "\n",
              "    .dataframe tbody tr th {\n",
              "        vertical-align: top;\n",
              "    }\n",
              "\n",
              "    .dataframe thead th {\n",
              "        text-align: right;\n",
              "    }\n",
              "</style>\n",
              "<table border=\"1\" class=\"dataframe\">\n",
              "  <thead>\n",
              "    <tr style=\"text-align: right;\">\n",
              "      <th></th>\n",
              "      <th>y_real</th>\n",
              "      <th>y_hat</th>\n",
              "    </tr>\n",
              "  </thead>\n",
              "  <tbody>\n",
              "    <tr>\n",
              "      <th>0</th>\n",
              "      <td>37.524391</td>\n",
              "      <td>35.998192</td>\n",
              "    </tr>\n",
              "    <tr>\n",
              "      <th>1</th>\n",
              "      <td>36.568878</td>\n",
              "      <td>35.278206</td>\n",
              "    </tr>\n",
              "    <tr>\n",
              "      <th>2</th>\n",
              "      <td>34.651894</td>\n",
              "      <td>34.046238</td>\n",
              "    </tr>\n",
              "  </tbody>\n",
              "</table>\n",
              "</div>"
            ],
            "text/plain": [
              "      y_real      y_hat\n",
              "0  37.524391  35.998192\n",
              "1  36.568878  35.278206\n",
              "2  34.651894  34.046238"
            ]
          },
          "metadata": {
            "tags": []
          },
          "execution_count": 11
        }
      ]
    },
    {
      "cell_type": "code",
      "metadata": {
        "colab": {
          "base_uri": "https://localhost:8080/",
          "height": 265
        },
        "id": "HQsDC0d9FTe8",
        "outputId": "308f15ee-dc42-4c0f-f95d-de7e999e1b11"
      },
      "source": [
        "ndf.plot();"
      ],
      "execution_count": null,
      "outputs": [
        {
          "output_type": "display_data",
          "data": {
            "image/png": "[encoded data removed]",
            "text/plain": [
              "<Figure size 432x288 with 1 Axes>"
            ]
          },
          "metadata": {
            "tags": [],
            "needs_background": "light"
          }
        }
      ]
    },
    {
      "cell_type": "code",
      "metadata": {
        "colab": {
          "base_uri": "https://localhost:8080/",
          "height": 265
        },
        "id": "NqUNpoujyVfZ",
        "outputId": "9d780074-f0fa-4121-abd9-30e17fe48ee4"
      },
      "source": [
        "df = data.groupby(['year', 'month'], as_index=False).mean()\n",
        "df['date'] = df.apply(lambda x: datetime(int(x.year), int(x.month), 1), axis=1)\n",
        "\n",
        "f, ax = plt.subplots(figsize=(15, 4))\n",
        "ax.plot(df.date.values, df.availability_60.values, label='Real target')\n",
        "ax.plot(df.date.values[-3:], y_hat[:, 0], label='Predicted target')\n",
        "ax.legend();"
      ],
      "execution_count": null,
      "outputs": [
        {
          "output_type": "display_data",
          "data": {
            "image/png": "[encoded data removed]",
            "text/plain": [
              "<Figure size 1080x288 with 1 Axes>"
            ]
          },
          "metadata": {
            "tags": [],
            "needs_background": "light"
          }
        }
      ]
    },
    {
      "cell_type": "code",
      "metadata": {
        "colab": {
          "base_uri": "https://localhost:8080/"
        },
        "id": "IK6q_Lr8eV9F",
        "outputId": "69935e0d-afd2-422c-a521-ee8cd35e1618"
      },
      "source": [
        "%%time\n",
        "\n",
        "def run_rnn(params):\n",
        "\n",
        "  hidden_size, learning_rate = params\n",
        "\n",
        "  n_seeds = 10\n",
        "  total_p = np.zeros((Yt.shape[0], 1, n_seeds))\n",
        "\n",
        "  for seed in range(n_seeds):\n",
        "    torch.manual_seed(seed)\n",
        "    np.random.seed(seed)\n",
        "\n",
        "    lstm = LSTMRNN(hidden_size, X.shape[-1]).cuda()\n",
        "\n",
        "    criterion = nn.L1Loss()\n",
        "    lstm_optimizer = optim.Adam(lstm.parameters(), lr=learning_rate)\n",
        "\n",
        "    for i in range(10):\n",
        "        lstm.zero_grad()\n",
        "        \n",
        "        o = lstm(X)\n",
        "        loss = criterion(o, Y)\n",
        "        loss.backward()\n",
        "        lstm_optimizer.step()\n",
        "        \n",
        "        p = lstm(Xt)\n",
        "        p = p.detach().cpu()\n",
        "    \n",
        "    y_real = scalerY.inverse_transform(Yt.numpy().reshape(-1, 1))\n",
        "    y_hat = scalerY.inverse_transform(p.numpy().reshape(-1, 1))\n",
        "    error = mean_absolute_error(y_real, y_hat)\n",
        "    total_p[:, :, seed] = error\n",
        "\n",
        "  avg_seed_error = total_p.mean(axis=-1)\n",
        "  return avg_seed_error[0][0]  "
      ],
      "execution_count": null,
      "outputs": [
        {
          "output_type": "stream",
          "text": [
            "CPU times: user 3 µs, sys: 0 ns, total: 3 µs\n",
            "Wall time: 6.91 µs\n"
          ],
          "name": "stdout"
        }
      ]
    },
    {
      "cell_type": "code",
      "metadata": {
        "colab": {
          "base_uri": "https://localhost:8080/"
        },
        "id": "ALvZfSMNgeDy",
        "outputId": "61445787-af75-4b0e-edf5-acd94abd04ce"
      },
      "source": [
        "space = [(10, 200),                       # hidden_size \n",
        "         (1e-5, 1e-1, 'log-uniform')]     # learning_rate\n",
        "\n",
        "res = gp_minimize(run_rnn, space, random_state=0, n_calls=50)\n",
        "\n",
        "hidden_size, learning_rate = res.x\n",
        "min_avg_error = res.fun\n",
        "\n",
        "print('Best parameters: \\n\\thidden_size = {}\\n\\tlearning_rate = {}\\n\\nMinimum avg error = {}'.format(hidden_size, learning_rate, min_avg_error))"
      ],
      "execution_count": null,
      "outputs": [
        {
          "output_type": "stream",
          "text": [
            "Best parameters: \n",
            "\thidden_size = 165\n",
            "\tlearning_rate = 0.001051717233627859\n",
            "\n",
            "Minimum avg error = 0.7679637730121612\n"
          ],
          "name": "stdout"
        }
      ]
    },
    {
      "cell_type": "code",
      "metadata": {
        "colab": {
          "base_uri": "https://localhost:8080/"
        },
        "id": "XiUNfWafg-X3",
        "outputId": "5bf0c096-e940-4b68-ed9c-48e1896cd395"
      },
      "source": [
        "%%time\n",
        "n_seeds = 10\n",
        "total_p = np.zeros((Yt.shape[0], 1, n_seeds))\n",
        "\n",
        "for seed in range(n_seeds):\n",
        "  torch.manual_seed(seed)\n",
        "  np.random.seed(seed)\n",
        "\n",
        "  lstm = LSTMRNN(hidden_size, X.shape[-1]).cuda()\n",
        "\n",
        "  criterion = nn.L1Loss()\n",
        "  lstm_optimizer = optim.Adam(lstm.parameters(), lr=learning_rate)\n",
        "\n",
        "  for i in range(10):\n",
        "      lstm.zero_grad()\n",
        "      \n",
        "      o = lstm(X)\n",
        "      loss = criterion(o, Y)\n",
        "      loss.backward()\n",
        "      lstm_optimizer.step()\n",
        "      \n",
        "      p = lstm(Xt)\n",
        "      p = p.detach().cpu()\n",
        "  \n",
        "  y_real = scalerY.inverse_transform(Yt.numpy().reshape(-1, 1))\n",
        "  new_y_hat = scalerY.inverse_transform(p.numpy().reshape(-1, 1))\n",
        "  error = mean_absolute_error(y_real, new_y_hat)\n",
        "  total_p[:, :, seed] = error\n",
        "\n",
        "  print('Seed {} - Error: {:.3f}'.format(seed, error))\n",
        "\n",
        "avg_seed_error = total_p.mean(axis=-1)\n",
        "#avg_error = mean_absolute_error(y_real, avg_seed_error)\n",
        "\n",
        "print('\\nEnsemble Avg Score = {:.3f}\\n'.format(avg_seed_error[0][0]))"
      ],
      "execution_count": null,
      "outputs": [
        {
          "output_type": "stream",
          "text": [
            "Seed 0 - Error: 0.443\n",
            "Seed 1 - Error: 0.635\n",
            "Seed 2 - Error: 0.526\n",
            "Seed 3 - Error: 0.844\n",
            "Seed 4 - Error: 1.194\n",
            "Seed 5 - Error: 1.105\n",
            "Seed 6 - Error: 0.625\n",
            "Seed 7 - Error: 1.009\n",
            "Seed 8 - Error: 0.987\n",
            "Seed 9 - Error: 0.312\n",
            "\n",
            "Ensemble Avg Score = 0.768\n",
            "\n",
            "CPU times: user 234 ms, sys: 10.4 ms, total: 244 ms\n",
            "Wall time: 244 ms\n"
          ],
          "name": "stdout"
        }
      ]
    },
    {
      "cell_type": "code",
      "metadata": {
        "colab": {
          "base_uri": "https://localhost:8080/",
          "height": 282
        },
        "id": "LwoKb6pArlXA",
        "outputId": "a23f8b96-f873-49aa-a63b-88b39e320a5d"
      },
      "source": [
        "ndf_tuned = pd.DataFrame({'y_real': y_real[:,0], 'y_hat': new_y_hat[:,0]}, index=np.arange(y_hat.shape[0]))\n",
        "ndf_tuned.plot()"
      ],
      "execution_count": null,
      "outputs": [
        {
          "output_type": "execute_result",
          "data": {
            "text/plain": [
              "<matplotlib.axes._subplots.AxesSubplot at 0x7f1acb205710>"
            ]
          },
          "metadata": {
            "tags": []
          },
          "execution_count": 17
        },
        {
          "output_type": "display_data",
          "data": {
            "image/png": "[encoded data removed]",
            "text/plain": [
              "<Figure size 432x288 with 1 Axes>"
            ]
          },
          "metadata": {
            "tags": [],
            "needs_background": "light"
          }
        }
      ]
    },
    {
      "cell_type": "code",
      "metadata": {
        "colab": {
          "base_uri": "https://localhost:8080/",
          "height": 265
        },
        "id": "a4Yb_SVkrtme",
        "outputId": "9bcaa99f-9bc3-4167-f975-4287f6dec013"
      },
      "source": [
        "df = data.groupby(['year', 'month'], as_index=False).mean()\n",
        "df['date'] = df.apply(lambda x: datetime(int(x.year), int(x.month), 1), axis=1)\n",
        "\n",
        "f, ax = plt.subplots(figsize=(15, 4))\n",
        "ax.plot(df.date.values, df.availability_60.values, label='Real target')\n",
        "ax.plot(df.date.values[-3:], new_y_hat[:, 0], label='Predicted target')\n",
        "ax.legend();"
      ],
      "execution_count": null,
      "outputs": [
        {
          "output_type": "display_data",
          "data": {
            "image/png": "[encoded data removed]",
            "text/plain": [
              "<Figure size 1080x288 with 1 Axes>"
            ]
          },
          "metadata": {
            "tags": [],
            "needs_background": "light"
          }
        }
      ]
    }
  ]
}