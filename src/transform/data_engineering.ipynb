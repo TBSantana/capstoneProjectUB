{
 "cells": [
  {
   "cell_type": "code",
   "execution_count": 16,
   "id": "283261dc",
   "metadata": {},
   "outputs": [],
   "source": [
    "from pathlib import Path\n",
    "import pandas as pd\n",
    "\n",
    "import warnings\n",
    "warnings.filterwarnings('ignore')\n",
    "\n",
    "from IPython.display import display\n",
    "pd.options.display.max_columns = None"
   ]
  },
  {
   "cell_type": "code",
   "execution_count": 17,
   "id": "a70d69d5",
   "metadata": {},
   "outputs": [],
   "source": [
    "HOME = Path().resolve().parent.parent\n",
    "data_dir = str(HOME) + '/data/meus dados/'"
   ]
  },
  {
   "cell_type": "code",
   "execution_count": 18,
   "id": "74329c24",
   "metadata": {},
   "outputs": [
    {
     "data": {
      "text/plain": [
       "(122143, 39)"
      ]
     },
     "execution_count": 18,
     "metadata": {},
     "output_type": "execute_result"
    }
   ],
   "source": [
    "listings = pd.read_csv(data_dir + 'listings_clean_1908-2002.csv', parse_dates=['last_scraped'])\n",
    "listings.shape"
   ]
  },
  {
   "cell_type": "markdown",
   "id": "d3abf89f",
   "metadata": {},
   "source": [
    "### 1. Creating new data columns"
   ]
  },
  {
   "cell_type": "code",
   "execution_count": 19,
   "id": "e3d33567",
   "metadata": {},
   "outputs": [],
   "source": [
    "listings['day'] = listings['last_scraped'].dt.day\n",
    "listings['month'] = listings['last_scraped'].dt.month\n",
    "listings['year'] = listings['last_scraped'].dt.year\n",
    "listings['is_high_season'] =  listings['last_scraped'].map(lambda x: 1 if x.month in [8, 12] else 0)"
   ]
  },
  {
   "cell_type": "markdown",
   "id": "dcd50f2a",
   "metadata": {},
   "source": [
    "### 2. Dealing with categorical data"
   ]
  },
  {
   "cell_type": "code",
   "execution_count": 20,
   "id": "096681ba",
   "metadata": {},
   "outputs": [],
   "source": [
    "categorical_cols = ['neighbourhood_group_cleansed', 'bed_type', 'cancellation_policy']"
   ]
  },
  {
   "cell_type": "code",
   "execution_count": 21,
   "id": "14251a5c",
   "metadata": {},
   "outputs": [],
   "source": [
    "listings = pd.get_dummies(listings, columns=categorical_cols)"
   ]
  },
  {
   "cell_type": "markdown",
   "id": "abb5b73b",
   "metadata": {},
   "source": [
    "### 3. Save new dataset"
   ]
  },
  {
   "cell_type": "code",
   "execution_count": 22,
   "id": "7be0b031",
   "metadata": {},
   "outputs": [],
   "source": [
    "listings.to_csv(data_dir + 'listings_transformed_1908-2002.csv', index=False)"
   ]
  }
 ],
 "metadata": {
  "kernelspec": {
   "display_name": "Python 3",
   "language": "python",
   "name": "python3"
  },
  "language_info": {
   "codemirror_mode": {
    "name": "ipython",
    "version": 3
   },
   "file_extension": ".py",
   "mimetype": "text/x-python",
   "name": "python",
   "nbconvert_exporter": "python",
   "pygments_lexer": "ipython3",
   "version": "3.9.2"
  }
 },
 "nbformat": 4,
 "nbformat_minor": 5
}
