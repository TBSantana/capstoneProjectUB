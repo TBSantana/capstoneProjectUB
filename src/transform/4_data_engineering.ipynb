{
 "cells": [
  {
   "cell_type": "code",
   "execution_count": 1,
   "id": "283261dc",
   "metadata": {},
   "outputs": [],
   "source": [
    "from pathlib import Path\n",
    "import pandas as pd\n",
    "\n",
    "from sklearn.preprocessing import LabelEncoder\n",
    "\n",
    "import warnings\n",
    "warnings.filterwarnings('ignore')\n",
    "\n",
    "from IPython.display import display\n",
    "pd.options.display.max_columns = None"
   ]
  },
  {
   "cell_type": "code",
   "execution_count": 2,
   "id": "a70d69d5",
   "metadata": {},
   "outputs": [],
   "source": [
    "HOME = Path().resolve().parent.parent\n",
    "data_dir = str(HOME) + '/data/processed/'"
   ]
  },
  {
   "cell_type": "code",
   "execution_count": 3,
   "id": "74329c24",
   "metadata": {},
   "outputs": [],
   "source": [
    "df = pd.read_csv(data_dir + 'listings_clean.csv.gz', parse_dates=['last_scraped'])"
   ]
  },
  {
   "cell_type": "code",
   "execution_count": 11,
   "id": "7c9753db",
   "metadata": {},
   "outputs": [
    {
     "data": {
      "text/plain": [
       "(458795, 23)"
      ]
     },
     "execution_count": 11,
     "metadata": {},
     "output_type": "execute_result"
    }
   ],
   "source": [
    "listings = df.copy()\n",
    "listings.shape"
   ]
  },
  {
   "cell_type": "markdown",
   "id": "d3abf89f",
   "metadata": {},
   "source": [
    "### 1. Creating new data columns"
   ]
  },
  {
   "cell_type": "code",
   "execution_count": 12,
   "id": "e3d33567",
   "metadata": {},
   "outputs": [],
   "source": [
    "listings['month'] = listings['last_scraped'].dt.month\n",
    "listings['year'] = listings['last_scraped'].dt.year\n",
    "listings['is_high_season'] =  listings['last_scraped'].map(lambda x: 1 if x.month in [7, 8, 12] else 0)\n",
    "\n",
    "# Remove the unecessary date column:\n",
    "listings = listings.drop(['last_scraped'], axis=1)"
   ]
  },
  {
   "cell_type": "markdown",
   "id": "dcd50f2a",
   "metadata": {},
   "source": [
    "### 2. Dealing with categorical data"
   ]
  },
  {
   "cell_type": "markdown",
   "id": "89079c7d",
   "metadata": {},
   "source": [
    "The categorical features are ```amenities```, ```room_type```, ```neighbourhood_group_cleansed```:"
   ]
  },
  {
   "cell_type": "code",
   "execution_count": 72,
   "id": "ed99e281",
   "metadata": {},
   "outputs": [],
   "source": [
    "#encoder = LabelEncoder()\n",
    "#listings['room_type'] = encoder.fit_transform(listings.room_type)\n",
    "#listings['neighbourhood_group_cleansed'] = encoder.fit_transform(listings.neighbourhood_group_cleansed)\n",
    "\n",
    "# For now, we are going to keep categorical values for facilitate exploratory data analysis"
   ]
  },
  {
   "cell_type": "markdown",
   "id": "66ab4fbe",
   "metadata": {},
   "source": [
    "It replace the amenities description by the total number of all offered amenities:"
   ]
  },
  {
   "cell_type": "code",
   "execution_count": 13,
   "id": "995e434a",
   "metadata": {},
   "outputs": [],
   "source": [
    "listings['amenities'] = listings['amenities'].map(lambda x: len(x.split(',')))"
   ]
  },
  {
   "cell_type": "markdown",
   "id": "abb5b73b",
   "metadata": {},
   "source": [
    "### 3. Save new dataset"
   ]
  },
  {
   "cell_type": "code",
   "execution_count": 14,
   "id": "7be0b031",
   "metadata": {},
   "outputs": [],
   "source": [
    "listings.to_csv(data_dir + 'listings_transformed.csv.gz', index=False)"
   ]
  }
 ],
 "metadata": {
  "kernelspec": {
   "display_name": "Python 3",
   "language": "python",
   "name": "python3"
  },
  "language_info": {
   "codemirror_mode": {
    "name": "ipython",
    "version": 3
   },
   "file_extension": ".py",
   "mimetype": "text/x-python",
   "name": "python",
   "nbconvert_exporter": "python",
   "pygments_lexer": "ipython3",
   "version": "3.9.2"
  }
 },
 "nbformat": 4,
 "nbformat_minor": 5
}
