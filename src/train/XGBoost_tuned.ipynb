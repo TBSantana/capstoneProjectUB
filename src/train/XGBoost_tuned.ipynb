{
 "cells": [
  {
   "cell_type": "code",
   "execution_count": 1,
   "id": "0dc3d18b",
   "metadata": {},
   "outputs": [
    {
     "name": "stdout",
     "output_type": "stream",
     "text": [
      "Requirement already satisfied: xgboost in /opt/conda/lib/python3.9/site-packages (1.4.2)\n",
      "Requirement already satisfied: numpy in /opt/conda/lib/python3.9/site-packages (from xgboost) (1.20.2)\n",
      "Requirement already satisfied: scipy in /opt/conda/lib/python3.9/site-packages (from xgboost) (1.6.3)\n"
     ]
    }
   ],
   "source": [
    "!pip install xgboost"
   ]
  },
  {
   "cell_type": "code",
   "execution_count": 2,
   "id": "20965987",
   "metadata": {},
   "outputs": [
    {
     "name": "stdout",
     "output_type": "stream",
     "text": [
      "Requirement already satisfied: scikit-optimize in /opt/conda/lib/python3.9/site-packages (0.8.1)\n",
      "Requirement already satisfied: scipy>=0.19.1 in /opt/conda/lib/python3.9/site-packages (from scikit-optimize) (1.6.3)\n",
      "Requirement already satisfied: numpy>=1.13.3 in /opt/conda/lib/python3.9/site-packages (from scikit-optimize) (1.20.2)\n",
      "Requirement already satisfied: scikit-learn>=0.20.0 in /opt/conda/lib/python3.9/site-packages (from scikit-optimize) (0.24.2)\n",
      "Requirement already satisfied: joblib>=0.11 in /opt/conda/lib/python3.9/site-packages (from scikit-optimize) (1.0.1)\n",
      "Requirement already satisfied: pyaml>=16.9 in /opt/conda/lib/python3.9/site-packages (from scikit-optimize) (20.4.0)\n",
      "Requirement already satisfied: PyYAML in /opt/conda/lib/python3.9/site-packages (from pyaml>=16.9->scikit-optimize) (5.4.1)\n",
      "Requirement already satisfied: threadpoolctl>=2.0.0 in /opt/conda/lib/python3.9/site-packages (from scikit-learn>=0.20.0->scikit-optimize) (2.1.0)\n"
     ]
    }
   ],
   "source": [
    "!pip install scikit-optimize"
   ]
  },
  {
   "cell_type": "code",
   "execution_count": 3,
   "id": "c823399b",
   "metadata": {},
   "outputs": [],
   "source": [
    "from pathlib import Path\n",
    "import pandas as pd\n",
    "import numpy as np\n",
    "import matplotlib.pyplot as plt\n",
    "\n",
    "from datetime import datetime\n",
    "from sklearn.preprocessing import RobustScaler, MinMaxScaler\n",
    "from sklearn.metrics import mean_squared_error, mean_absolute_error\n",
    "import xgboost as xgb\n",
    "\n",
    "from skopt import gp_minimize\n",
    "\n",
    "import warnings\n",
    "warnings.filterwarnings('ignore')\n",
    "\n",
    "from IPython.display import display\n",
    "pd.options.display.max_columns = None"
   ]
  },
  {
   "cell_type": "markdown",
   "id": "45482afd",
   "metadata": {},
   "source": [
    "## 1. Read the data"
   ]
  },
  {
   "cell_type": "code",
   "execution_count": 4,
   "id": "ae738e62",
   "metadata": {},
   "outputs": [],
   "source": [
    "HOME = Path().resolve().parent.parent\n",
    "data_dir = str(HOME) + '/data/processed/'"
   ]
  },
  {
   "cell_type": "code",
   "execution_count": 5,
   "id": "4c87153e",
   "metadata": {},
   "outputs": [],
   "source": [
    "cols = ['year', 'month', 'CasosCovMes', 'CasosCovMesAnt',  'availability_30', 'availability_60']\n",
    "listings = pd.read_csv(data_dir + 'listings_transformed.csv.gz', usecols=cols)\n",
    "\n",
    "df2 = listings.groupby(['year', 'month'], as_index=False).mean()\n",
    "df = df2[['year', 'CasosCovMesAnt', 'CasosCovMes', 'availability_30', 'month', 'availability_60']].copy()"
   ]
  },
  {
   "cell_type": "markdown",
   "id": "d90630c0",
   "metadata": {},
   "source": [
    "## 2. Creating new features \n",
    "\n",
    "This cell read the transformed full data and creates two new variables sin_month and cos_month. These variables are responsable to inform the model the cyclical nature of the month. For instance, the month 12 is not 12 times greater than the month 1, since they are just 30 days away from each other.\n",
    "\n",
    "Also, we are getting the last 3 `availability_60` of the each row and stoting it as a feature."
   ]
  },
  {
   "cell_type": "code",
   "execution_count": 6,
   "id": "42ff4ee9",
   "metadata": {},
   "outputs": [],
   "source": [
    "df['sin_month'] = np.sin(2 * np.pi * df['month'] / 12)\n",
    "df['cos_month'] = np.cos(2 * np.pi * df['month'] / 12)\n",
    "df = df.drop(columns=['month'])\n",
    "\n",
    "df['av60_lag1'] = df['availability_60'].shift(1)\n",
    "df['av60_lag2'] = df['availability_60'].shift(2)\n",
    "df['av60_lag3'] = df['availability_60'].shift(3)\n",
    "df = df.dropna()"
   ]
  },
  {
   "cell_type": "markdown",
   "id": "1d29f48d",
   "metadata": {},
   "source": [
    "## 3. Split the data"
   ]
  },
  {
   "cell_type": "code",
   "execution_count": 13,
   "id": "3e043ae8",
   "metadata": {},
   "outputs": [
    {
     "name": "stdout",
     "output_type": "stream",
     "text": [
      "Train shape: (22, 10)\n",
      "Val shape: (3, 10)\n"
     ]
    }
   ],
   "source": [
    "train = df.iloc[:22]\n",
    "val = df.iloc[22:]\n",
    "\n",
    "X_train, y_train = train.drop('availability_60', axis=1), train['availability_60']\n",
    "X_val, y_val = val.drop('availability_60', axis=1), val['availability_60']\n",
    "\n",
    "print('Train shape:', train.shape)\n",
    "print('Val shape:', val.shape)"
   ]
  },
  {
   "cell_type": "code",
   "execution_count": 14,
   "id": "20087810",
   "metadata": {},
   "outputs": [
    {
     "data": {
      "text/html": [
       "<div>\n",
       "<style scoped>\n",
       "    .dataframe tbody tr th:only-of-type {\n",
       "        vertical-align: middle;\n",
       "    }\n",
       "\n",
       "    .dataframe tbody tr th {\n",
       "        vertical-align: top;\n",
       "    }\n",
       "\n",
       "    .dataframe thead th {\n",
       "        text-align: right;\n",
       "    }\n",
       "</style>\n",
       "<table border=\"1\" class=\"dataframe\">\n",
       "  <thead>\n",
       "    <tr style=\"text-align: right;\">\n",
       "      <th></th>\n",
       "      <th>year</th>\n",
       "      <th>CasosCovMesAnt</th>\n",
       "      <th>CasosCovMes</th>\n",
       "      <th>availability_30</th>\n",
       "      <th>availability_60</th>\n",
       "      <th>sin_month</th>\n",
       "      <th>cos_month</th>\n",
       "      <th>av60_lag1</th>\n",
       "      <th>av60_lag2</th>\n",
       "      <th>av60_lag3</th>\n",
       "    </tr>\n",
       "  </thead>\n",
       "  <tbody>\n",
       "    <tr>\n",
       "      <th>3</th>\n",
       "      <td>2019</td>\n",
       "      <td>0.0</td>\n",
       "      <td>0.0</td>\n",
       "      <td>8.427229</td>\n",
       "      <td>21.671065</td>\n",
       "      <td>8.660254e-01</td>\n",
       "      <td>-0.500000</td>\n",
       "      <td>26.046817</td>\n",
       "      <td>30.142773</td>\n",
       "      <td>33.980185</td>\n",
       "    </tr>\n",
       "    <tr>\n",
       "      <th>4</th>\n",
       "      <td>2019</td>\n",
       "      <td>0.0</td>\n",
       "      <td>0.0</td>\n",
       "      <td>8.696772</td>\n",
       "      <td>21.082841</td>\n",
       "      <td>5.000000e-01</td>\n",
       "      <td>-0.866025</td>\n",
       "      <td>21.671065</td>\n",
       "      <td>26.046817</td>\n",
       "      <td>30.142773</td>\n",
       "    </tr>\n",
       "    <tr>\n",
       "      <th>5</th>\n",
       "      <td>2019</td>\n",
       "      <td>0.0</td>\n",
       "      <td>0.0</td>\n",
       "      <td>7.557731</td>\n",
       "      <td>21.137897</td>\n",
       "      <td>1.224647e-16</td>\n",
       "      <td>-1.000000</td>\n",
       "      <td>21.082841</td>\n",
       "      <td>21.671065</td>\n",
       "      <td>26.046817</td>\n",
       "    </tr>\n",
       "    <tr>\n",
       "      <th>6</th>\n",
       "      <td>2019</td>\n",
       "      <td>0.0</td>\n",
       "      <td>0.0</td>\n",
       "      <td>9.384562</td>\n",
       "      <td>24.738135</td>\n",
       "      <td>-5.000000e-01</td>\n",
       "      <td>-0.866025</td>\n",
       "      <td>21.137897</td>\n",
       "      <td>21.082841</td>\n",
       "      <td>21.671065</td>\n",
       "    </tr>\n",
       "    <tr>\n",
       "      <th>7</th>\n",
       "      <td>2019</td>\n",
       "      <td>0.0</td>\n",
       "      <td>0.0</td>\n",
       "      <td>11.050426</td>\n",
       "      <td>25.147957</td>\n",
       "      <td>-8.660254e-01</td>\n",
       "      <td>-0.500000</td>\n",
       "      <td>24.738135</td>\n",
       "      <td>21.137897</td>\n",
       "      <td>21.082841</td>\n",
       "    </tr>\n",
       "  </tbody>\n",
       "</table>\n",
       "</div>"
      ],
      "text/plain": [
       "   year  CasosCovMesAnt  CasosCovMes  availability_30  availability_60  \\\n",
       "3  2019             0.0          0.0         8.427229        21.671065   \n",
       "4  2019             0.0          0.0         8.696772        21.082841   \n",
       "5  2019             0.0          0.0         7.557731        21.137897   \n",
       "6  2019             0.0          0.0         9.384562        24.738135   \n",
       "7  2019             0.0          0.0        11.050426        25.147957   \n",
       "\n",
       "      sin_month  cos_month  av60_lag1  av60_lag2  av60_lag3  \n",
       "3  8.660254e-01  -0.500000  26.046817  30.142773  33.980185  \n",
       "4  5.000000e-01  -0.866025  21.671065  26.046817  30.142773  \n",
       "5  1.224647e-16  -1.000000  21.082841  21.671065  26.046817  \n",
       "6 -5.000000e-01  -0.866025  21.137897  21.082841  21.671065  \n",
       "7 -8.660254e-01  -0.500000  24.738135  21.137897  21.082841  "
      ]
     },
     "execution_count": 14,
     "metadata": {},
     "output_type": "execute_result"
    }
   ],
   "source": [
    "train.head()"
   ]
  },
  {
   "cell_type": "markdown",
   "id": "5b608ad7",
   "metadata": {},
   "source": [
    "## 4. Data Normalization\n",
    "\n",
    "The XGBoost do not need to have data normalization, then we kept the data in its original format."
   ]
  },
  {
   "cell_type": "markdown",
   "id": "0e89f595",
   "metadata": {},
   "source": [
    "## 5. Train XGBoost model"
   ]
  },
  {
   "cell_type": "code",
   "execution_count": 15,
   "id": "669b20ca",
   "metadata": {},
   "outputs": [],
   "source": [
    "xgb_model = xgb.XGBRegressor(reg_alpha=10)"
   ]
  },
  {
   "cell_type": "code",
   "execution_count": 16,
   "id": "66f68ae2",
   "metadata": {},
   "outputs": [
    {
     "data": {
      "text/plain": [
       "XGBRegressor(base_score=0.5, booster='gbtree', colsample_bylevel=1,\n",
       "             colsample_bynode=1, colsample_bytree=1, gamma=0, gpu_id=-1,\n",
       "             importance_type='gain', interaction_constraints='',\n",
       "             learning_rate=0.300000012, max_delta_step=0, max_depth=6,\n",
       "             min_child_weight=1, missing=nan, monotone_constraints='()',\n",
       "             n_estimators=100, n_jobs=4, num_parallel_tree=1, random_state=0,\n",
       "             reg_alpha=10, reg_lambda=1, scale_pos_weight=1, subsample=1,\n",
       "             tree_method='exact', validate_parameters=1, verbosity=None)"
      ]
     },
     "execution_count": 16,
     "metadata": {},
     "output_type": "execute_result"
    }
   ],
   "source": [
    "xgb_model.fit(X_train, y_train)"
   ]
  },
  {
   "cell_type": "markdown",
   "id": "d69e6878",
   "metadata": {},
   "source": [
    "## 6. Predict and validate results"
   ]
  },
  {
   "cell_type": "code",
   "execution_count": 17,
   "id": "1c85caae",
   "metadata": {},
   "outputs": [],
   "source": [
    "# Predict\n",
    "train_pred = xgb_model.predict(X_train)\n",
    "val_pred = xgb_model.predict(X_val)"
   ]
  },
  {
   "cell_type": "code",
   "execution_count": 18,
   "id": "b6d9c9b9",
   "metadata": {},
   "outputs": [],
   "source": [
    "# Compute RMSE\n",
    "train_rmse = mean_absolute_error(y_train, train_pred)\n",
    "test_rmse = mean_absolute_error(y_val, val_pred)"
   ]
  },
  {
   "cell_type": "code",
   "execution_count": 19,
   "id": "14135551",
   "metadata": {},
   "outputs": [
    {
     "name": "stdout",
     "output_type": "stream",
     "text": [
      "The Train Abs Error is 0.86\n",
      "The Val Abs Error is 2.82\n"
     ]
    }
   ],
   "source": [
    "print(f'The Train Abs Error is {train_rmse:.2f}\\nThe Val Abs Error is {test_rmse:.2f}')"
   ]
  },
  {
   "cell_type": "markdown",
   "id": "c59d2ccc",
   "metadata": {},
   "source": [
    "## 7. Real value vs predicted"
   ]
  },
  {
   "cell_type": "code",
   "execution_count": 20,
   "id": "70b5a469",
   "metadata": {},
   "outputs": [
    {
     "data": {
      "image/png": "[encoded data removed]",
      "text/plain": [
       "<Figure size 864x288 with 1 Axes>"
      ]
     },
     "metadata": {
      "needs_background": "light"
     },
     "output_type": "display_data"
    }
   ],
   "source": [
    "real = pd.concat([y_train, y_test]).values\n",
    "predicted = np.concatenate([train_pred, val_pred])\n",
    "\n",
    "unseen = np.zeros(len(real))\n",
    "unseen[-len(predicted):] = 1\n",
    "\n",
    "dates = df2.apply(lambda x: datetime(int(x.year), int(x.month), 1), axis=1)\n",
    "\n",
    "occupation = pd.DataFrame({'Real': real, 'Predicted': predicted}, index=dates[3:])\n",
    "occupation.plot(figsize=(12, 4));"
   ]
  },
  {
   "cell_type": "markdown",
   "id": "bba4c6bf",
   "metadata": {},
   "source": [
    "### 7. Variable importance for the model"
   ]
  },
  {
   "cell_type": "code",
   "execution_count": 21,
   "id": "b82edabb",
   "metadata": {},
   "outputs": [
    {
     "data": {
      "image/png": "[encoded data removed]",
      "text/plain": [
       "<Figure size 576x360 with 1 Axes>"
      ]
     },
     "metadata": {
      "needs_background": "light"
     },
     "output_type": "display_data"
    }
   ],
   "source": [
    "# Producing a dataframe of feature importances\n",
    "features_weights = pd.DataFrame(xgb_model.feature_importances_, columns=['weight'], index=X_train.columns)\n",
    "features_weights.sort_values('weight', inplace=True)\n",
    "\n",
    "# Plotting feature importances\n",
    "plt.figure(figsize=(8,5))\n",
    "plt.barh(features_weights.index, features_weights.weight, align='center') \n",
    "plt.title(\"Feature importances in the XGBoost model\", fontsize=14)\n",
    "plt.xlabel(\"Feature importance\")\n",
    "plt.margins(y=0.01)\n",
    "plt.show()"
   ]
  },
  {
   "cell_type": "markdown",
   "id": "64be9629",
   "metadata": {},
   "source": [
    "# Hyperparameter Tunning\n",
    "\n",
    "Now that we have a result, we are going to improve the quality of the prediction by doing hyperparameter tuning. The optimizer we are using is based in Gaussian Processs Optimization and its library is available [here](https://scikit-optimize.github.io/stable/modules/generated/skopt.gp_minimize.html).\n",
    "\n",
    "This function execute the training process inside the optimizer. During our implementation, we have observed that even using seeds, our results still was changing. Due to that, we decided to train the model many times, one for each seed. Then, compute the average error of each seed. This result should be a better estimator of the final prediction error."
   ]
  },
  {
   "cell_type": "code",
   "execution_count": 27,
   "id": "5043173d",
   "metadata": {},
   "outputs": [
    {
     "name": "stdout",
     "output_type": "stream",
     "text": [
      "CPU times: user 6 µs, sys: 2 µs, total: 8 µs\n",
      "Wall time: 13.6 µs\n"
     ]
    }
   ],
   "source": [
    "%%time\n",
    "\n",
    "def run_xgb(params):\n",
    "    \n",
    "    max_depth, gamma, reg_alpha, reg_lambda, colsample_bytree, min_child_weight, n_estimators, learning_rate = params\n",
    "\n",
    "    n_seeds = 10\n",
    "    total_errors = np.zeros(n_seeds)\n",
    "\n",
    "    for seed in range(n_seeds):\n",
    "        \n",
    "        np.random.seed(seed)\n",
    "\n",
    "        xgb_model = xgb.XGBRegressor(        \n",
    "            max_depth=max_depth, gamma=gamma, reg_alpha=reg_alpha, reg_lambda=reg_lambda,\n",
    "            colsample_bytree=colsample_bytree, min_child_weight=min_child_weight,\n",
    "            n_estimators=n_estimators, learning_rate=learning_rate, random_state=seed\n",
    "        )\n",
    "\n",
    "        xgb_model.fit(X_train, y_train)    \n",
    "        pred = xgb_model.predict(X_val)\n",
    "\n",
    "        error = mean_absolute_error(y_val, pred)    \n",
    "        total_errors[seed] = error\n",
    "        avg_seed_error = total_errors.mean()\n",
    "    \n",
    "    return avg_seed_error"
   ]
  },
  {
   "cell_type": "markdown",
   "id": "fbe22015",
   "metadata": {},
   "source": [
    "This is the hyperparameters intervals that will be passed to the optimizer."
   ]
  },
  {
   "cell_type": "code",
   "execution_count": 42,
   "id": "1eb34a8d",
   "metadata": {},
   "outputs": [],
   "source": [
    "space = [(10, 50),                        # max_depth\n",
    "         (0.0, 0.5),                      # gamma\n",
    "         (1, 5),                          # reg_alpha\n",
    "         (1, 5),                          # reg_lambda\n",
    "         (0.3, 1.0),                      # colsample_bytree\n",
    "         (1, 10),                         # min_child_weight\n",
    "         (50, 500),                       # n_estimetors\n",
    "         (1e-3, 1e-1, 'log-uniform')]     # learning_rate\n",
    "\n",
    "res = gp_minimize(run_xgb, space, random_state=0, n_calls=50)"
   ]
  },
  {
   "cell_type": "code",
   "execution_count": 43,
   "id": "ad9cbd58",
   "metadata": {
    "scrolled": true
   },
   "outputs": [],
   "source": [
    "max_depth, gamma, reg_alpha, reg_lambda, colsample_bytree, min_child_weight, n_estimators, learning_rate = res.x"
   ]
  },
  {
   "cell_type": "markdown",
   "id": "4508235b",
   "metadata": {},
   "source": [
    "### Retrain the model using the new hyperparameters\n",
    "\n",
    "Now, we are going to retrain the model using the best hyperparameters selected by the optimizer, using all the dataset."
   ]
  },
  {
   "cell_type": "code",
   "execution_count": 44,
   "id": "5c335da9",
   "metadata": {},
   "outputs": [],
   "source": [
    "xgb_model = xgb.XGBRegressor(        \n",
    "            max_depth=max_depth, gamma=gamma, reg_alpha=reg_alpha, reg_lambda=reg_lambda,\n",
    "            colsample_bytree=colsample_bytree, min_child_weight=min_child_weight,\n",
    "            n_estimators=n_estimators, learning_rate=learning_rate) \n",
    "\n",
    "X, Y = df.drop('availability_60', axis=1), df['availability_60']\n",
    "\n",
    "xgb_model.fit(X, Y) \n",
    "\n",
    "train_pred = xgb_model.predict(X)"
   ]
  },
  {
   "cell_type": "code",
   "execution_count": 45,
   "id": "c6679604",
   "metadata": {},
   "outputs": [
    {
     "data": {
      "image/png": "[encoded data removed]",
      "text/plain": [
       "<Figure size 864x288 with 1 Axes>"
      ]
     },
     "metadata": {
      "needs_background": "light"
     },
     "output_type": "display_data"
    }
   ],
   "source": [
    "real = Y.values\n",
    "\n",
    "unseen = np.zeros(len(real))\n",
    "unseen[-len(predicted):] = 1\n",
    "\n",
    "dates = df2.apply(lambda x: datetime(int(x.year), int(x.month), 1), axis=1)\n",
    "\n",
    "occupation = pd.DataFrame({'Real': real, 'Predicted': train_pred}, index=dates[3:])\n",
    "occupation.plot(figsize=(12, 4));"
   ]
  },
  {
   "cell_type": "markdown",
   "id": "2653baa5",
   "metadata": {},
   "source": [
    "The obtained results for this model was not that good as that one obtained using RNN. It is necessary to change the set of hyperparameters in order to get a better prediction.\n",
    "\n",
    "We will keep this notebook as a record of our work, but our main model is the RNN in Pytorch."
   ]
  }
 ],
 "metadata": {
  "kernelspec": {
   "display_name": "Python 3",
   "language": "python",
   "name": "python3"
  },
  "language_info": {
   "codemirror_mode": {
    "name": "ipython",
    "version": 3
   },
   "file_extension": ".py",
   "mimetype": "text/x-python",
   "name": "python",
   "nbconvert_exporter": "python",
   "pygments_lexer": "ipython3",
   "version": "3.9.2"
  }
 },
 "nbformat": 4,
 "nbformat_minor": 5
}
