{
 "cells": [
  {
   "cell_type": "code",
   "execution_count": 197,
   "id": "0dc3d18b",
   "metadata": {},
   "outputs": [],
   "source": [
    "#!pip install xgboost"
   ]
  },
  {
   "cell_type": "code",
   "execution_count": 1,
   "id": "c823399b",
   "metadata": {},
   "outputs": [],
   "source": [
    "from pathlib import Path\n",
    "import pandas as pd\n",
    "import numpy as np\n",
    "import matplotlib.pyplot as plt\n",
    "\n",
    "from sklearn.preprocessing import RobustScaler\n",
    "from sklearn.metrics import mean_squared_error\n",
    "import xgboost as xgb\n",
    "\n",
    "import warnings\n",
    "warnings.filterwarnings('ignore')\n",
    "\n",
    "from IPython.display import display\n",
    "pd.options.display.max_columns = None"
   ]
  },
  {
   "cell_type": "code",
   "execution_count": 4,
   "id": "ae738e62",
   "metadata": {},
   "outputs": [],
   "source": [
    "HOME = Path().resolve().parent.parent\n",
    "data_dir = str(HOME) + '/data/processed/'"
   ]
  },
  {
   "cell_type": "code",
   "execution_count": 3,
   "id": "4c87153e",
   "metadata": {},
   "outputs": [
    {
     "data": {
      "text/plain": [
       "(456987, 24)"
      ]
     },
     "execution_count": 3,
     "metadata": {},
     "output_type": "execute_result"
    }
   ],
   "source": [
    "listings = pd.read_csv(data_dir + 'listings_transformed.csv.gz')\n",
    "listings.shape"
   ]
  },
  {
   "cell_type": "markdown",
   "id": "a2d602a9",
   "metadata": {},
   "source": [
    "### 1. Preparing the dataset to make predictions"
   ]
  },
  {
   "cell_type": "code",
   "execution_count": 30,
   "id": "09335b3a",
   "metadata": {},
   "outputs": [],
   "source": [
    "useful_features = ['id', 'year', 'month', 'beds', 'bedrooms', 'number_of_reviews', 'amenities', 'room_type',\n",
    "                   'bathrooms', 'price', 'reviews_per_month', 'accommodates', 'review_scores_rating', \n",
    "                  'neighbourhood_group_cleansed', 'is_high_season', 'availability_30', 'availability_60']"
   ]
  },
  {
   "cell_type": "code",
   "execution_count": 31,
   "id": "ef8f3b60",
   "metadata": {},
   "outputs": [],
   "source": [
    "df = listings[useful_features].groupby(['year', 'month', 'id'], as_index=False).mean()\n",
    "\n",
    "timeline = df['year']*12 + df['month']\n",
    "df.insert(2, 'monthly_timeline', timeline)"
   ]
  },
  {
   "cell_type": "markdown",
   "id": "3807927c",
   "metadata": {},
   "source": [
    "### 3. Preprocessing data"
   ]
  },
  {
   "cell_type": "code",
   "execution_count": 32,
   "id": "137591c1",
   "metadata": {},
   "outputs": [],
   "source": [
    "ids = df.id.unique()\n",
    "\n",
    "df['av60_lag1'] = 0.0\n",
    "df['av60_lag2'] = 0.0\n",
    "\n",
    "for id in ids:\n",
    "    df.loc[df.id == id, 'av60_lag1'] = df[df.id == id]['availability_60'].shift(1)\n",
    "    df.loc[df.id == id, 'av60_lag2'] = df[df.id == id]['availability_60'].shift(2)"
   ]
  },
  {
   "cell_type": "code",
   "execution_count": 33,
   "id": "11de07ba",
   "metadata": {},
   "outputs": [],
   "source": [
    "df2 = df.dropna().copy()"
   ]
  },
  {
   "cell_type": "code",
   "execution_count": 49,
   "id": "298b38fd",
   "metadata": {},
   "outputs": [
    {
     "data": {
      "text/plain": [
       "(379767, 20)"
      ]
     },
     "execution_count": 49,
     "metadata": {},
     "output_type": "execute_result"
    }
   ],
   "source": [
    "df2.shape"
   ]
  },
  {
   "cell_type": "markdown",
   "id": "a8141973",
   "metadata": {},
   "source": [
    "### 2. Split train and test set"
   ]
  },
  {
   "cell_type": "code",
   "execution_count": 36,
   "id": "54af89f8",
   "metadata": {},
   "outputs": [],
   "source": [
    "train = df2[df2['monthly_timeline'] <= 24255].copy()\n",
    "test = df2[df2['monthly_timeline'] > 24255].copy()"
   ]
  },
  {
   "cell_type": "code",
   "execution_count": 39,
   "id": "acb649eb",
   "metadata": {},
   "outputs": [],
   "source": [
    "X_train, y_train = train.drop('availability_60', axis=1), train['availability_60']\n",
    "X_test, y_test = test.drop('availability_60', axis=1), test['availability_60']"
   ]
  },
  {
   "cell_type": "markdown",
   "id": "3148580c",
   "metadata": {},
   "source": [
    "### 3. Standardization and Normalization"
   ]
  },
  {
   "cell_type": "code",
   "execution_count": 40,
   "id": "6dddc6e5",
   "metadata": {},
   "outputs": [],
   "source": [
    "transformer = RobustScaler()\n",
    "X_train_norm = transformer.fit_transform(X_train)\n",
    "X_test_norm = transformer.transform(X_test)"
   ]
  },
  {
   "cell_type": "markdown",
   "id": "0e89f595",
   "metadata": {},
   "source": [
    "### 4. Train XGBoost model"
   ]
  },
  {
   "cell_type": "code",
   "execution_count": 41,
   "id": "669b20ca",
   "metadata": {},
   "outputs": [],
   "source": [
    "xgb_model = xgb.XGBRegressor()"
   ]
  },
  {
   "cell_type": "code",
   "execution_count": 42,
   "id": "66f68ae2",
   "metadata": {},
   "outputs": [
    {
     "data": {
      "text/plain": [
       "XGBRegressor(base_score=0.5, booster='gbtree', colsample_bylevel=1,\n",
       "             colsample_bynode=1, colsample_bytree=1, gamma=0, gpu_id=-1,\n",
       "             importance_type='gain', interaction_constraints='',\n",
       "             learning_rate=0.300000012, max_delta_step=0, max_depth=6,\n",
       "             min_child_weight=1, missing=nan, monotone_constraints='()',\n",
       "             n_estimators=100, n_jobs=4, num_parallel_tree=1, random_state=0,\n",
       "             reg_alpha=0, reg_lambda=1, scale_pos_weight=1, subsample=1,\n",
       "             tree_method='exact', validate_parameters=1, verbosity=None)"
      ]
     },
     "execution_count": 42,
     "metadata": {},
     "output_type": "execute_result"
    }
   ],
   "source": [
    "xgb_model.fit(X_train_norm, y_train)"
   ]
  },
  {
   "cell_type": "markdown",
   "id": "d69e6878",
   "metadata": {},
   "source": [
    "### 5. Predict and validate results"
   ]
  },
  {
   "cell_type": "code",
   "execution_count": 43,
   "id": "1c85caae",
   "metadata": {},
   "outputs": [],
   "source": [
    "# Predict\n",
    "\n",
    "train_pred = xgb_model.predict(X_train_norm)\n",
    "test_pred = xgb_model.predict(X_test_norm)"
   ]
  },
  {
   "cell_type": "code",
   "execution_count": 44,
   "id": "b6d9c9b9",
   "metadata": {},
   "outputs": [],
   "source": [
    "# Compute RMSE\n",
    "\n",
    "train_rmse = mean_squared_error(y_train, train_pred)\n",
    "test_rmse = mean_squared_error(y_test, test_pred)"
   ]
  },
  {
   "cell_type": "code",
   "execution_count": 48,
   "id": "14135551",
   "metadata": {},
   "outputs": [
    {
     "name": "stdout",
     "output_type": "stream",
     "text": [
      "The Train RMSE is 43.49\n",
      "The Test RMSE is 42.95\n"
     ]
    }
   ],
   "source": [
    "print(f'The Train RMSE is {train_rmse:.2f}\\nThe Test RMSE is {test_rmse:.2f}')"
   ]
  },
  {
   "cell_type": "markdown",
   "id": "bba4c6bf",
   "metadata": {},
   "source": [
    "### 6. Variable importance for the model"
   ]
  },
  {
   "cell_type": "code",
   "execution_count": 46,
   "id": "b82edabb",
   "metadata": {},
   "outputs": [
    {
     "data": {
      "image/png": "[encoded data removed]",
      "text/plain": [
       "<Figure size 576x360 with 1 Axes>"
      ]
     },
     "metadata": {
      "needs_background": "light"
     },
     "output_type": "display_data"
    }
   ],
   "source": [
    "# Producing a dataframe of feature importances\n",
    "features_weights = pd.DataFrame(xgb_model.feature_importances_, columns=['weight'], index=X_train.columns)\n",
    "features_weights.sort_values('weight', inplace=True)\n",
    "\n",
    "# Plotting feature importances\n",
    "plt.figure(figsize=(8,5))\n",
    "plt.barh(features_weights.index, features_weights.weight, align='center') \n",
    "plt.title(\"Feature importances in the XGBoost model\", fontsize=14)\n",
    "plt.xlabel(\"Feature importance\")\n",
    "plt.margins(y=0.01)\n",
    "plt.show()"
   ]
  }
 ],
 "metadata": {
  "kernelspec": {
   "display_name": "Python 3",
   "language": "python",
   "name": "python3"
  },
  "language_info": {
   "codemirror_mode": {
    "name": "ipython",
    "version": 3
   },
   "file_extension": ".py",
   "mimetype": "text/x-python",
   "name": "python",
   "nbconvert_exporter": "python",
   "pygments_lexer": "ipython3",
   "version": "3.9.2"
  }
 },
 "nbformat": 4,
 "nbformat_minor": 5
}
