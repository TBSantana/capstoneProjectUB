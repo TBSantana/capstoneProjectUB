{
 "cells": [
  {
   "cell_type": "code",
   "execution_count": 197,
   "id": "0dc3d18b",
   "metadata": {},
   "outputs": [],
   "source": [
    "#!pip install xgboost"
   ]
  },
  {
   "cell_type": "code",
   "execution_count": 11,
   "id": "c823399b",
   "metadata": {},
   "outputs": [],
   "source": [
    "from pathlib import Path\n",
    "import pandas as pd\n",
    "import numpy as np\n",
    "import matplotlib.pyplot as plt\n",
    "\n",
    "from sklearn.preprocessing import RobustScaler\n",
    "from sklearn.metrics import mean_squared_error\n",
    "import xgboost as xgb\n",
    "\n",
    "import warnings\n",
    "warnings.filterwarnings('ignore')\n",
    "\n",
    "from IPython.display import display\n",
    "pd.options.display.max_columns = None"
   ]
  },
  {
   "cell_type": "code",
   "execution_count": 12,
   "id": "ae738e62",
   "metadata": {},
   "outputs": [],
   "source": [
    "HOME = Path().resolve().parent.parent\n",
    "data_dir = str(HOME) + '/data/processed/'"
   ]
  },
  {
   "cell_type": "code",
   "execution_count": 19,
   "id": "4c87153e",
   "metadata": {},
   "outputs": [
    {
     "data": {
      "text/plain": [
       "(458795, 25)"
      ]
     },
     "execution_count": 19,
     "metadata": {},
     "output_type": "execute_result"
    }
   ],
   "source": [
    "listings = pd.read_csv(data_dir + 'listings_transformed.csv.gz')\n",
    "listings.shape"
   ]
  },
  {
   "cell_type": "code",
   "execution_count": 20,
   "id": "9b3ce8f4",
   "metadata": {},
   "outputs": [
    {
     "data": {
      "text/html": [
       "<div>\n",
       "<style scoped>\n",
       "    .dataframe tbody tr th:only-of-type {\n",
       "        vertical-align: middle;\n",
       "    }\n",
       "\n",
       "    .dataframe tbody tr th {\n",
       "        vertical-align: top;\n",
       "    }\n",
       "\n",
       "    .dataframe thead th {\n",
       "        text-align: right;\n",
       "    }\n",
       "</style>\n",
       "<table border=\"1\" class=\"dataframe\">\n",
       "  <thead>\n",
       "    <tr style=\"text-align: right;\">\n",
       "      <th></th>\n",
       "      <th>availability_60</th>\n",
       "      <th>CasosCovMesAnt</th>\n",
       "      <th>neighbourhood_group_cleansed</th>\n",
       "      <th>longitude</th>\n",
       "      <th>beds</th>\n",
       "      <th>id</th>\n",
       "      <th>bedrooms</th>\n",
       "      <th>accommodates</th>\n",
       "      <th>room_type</th>\n",
       "      <th>number_of_reviews</th>\n",
       "      <th>CasosCovMes</th>\n",
       "      <th>file_date</th>\n",
       "      <th>price</th>\n",
       "      <th>availability_90</th>\n",
       "      <th>amenities</th>\n",
       "      <th>latitude</th>\n",
       "      <th>availability_30</th>\n",
       "      <th>availability_365</th>\n",
       "      <th>review_scores_rating</th>\n",
       "      <th>bathrooms</th>\n",
       "      <th>reviews_per_month</th>\n",
       "      <th>property_type</th>\n",
       "      <th>month</th>\n",
       "      <th>year</th>\n",
       "      <th>is_high_season</th>\n",
       "    </tr>\n",
       "  </thead>\n",
       "  <tbody>\n",
       "    <tr>\n",
       "      <th>0</th>\n",
       "      <td>0</td>\n",
       "      <td>0.0</td>\n",
       "      <td>Sant Martí</td>\n",
       "      <td>2.185545</td>\n",
       "      <td>4</td>\n",
       "      <td>18666</td>\n",
       "      <td>2</td>\n",
       "      <td>6</td>\n",
       "      <td>Entire home/apt</td>\n",
       "      <td>1</td>\n",
       "      <td>0.0</td>\n",
       "      <td>1901</td>\n",
       "      <td>130.0</td>\n",
       "      <td>0</td>\n",
       "      <td>18</td>\n",
       "      <td>41.408886</td>\n",
       "      <td>0</td>\n",
       "      <td>6</td>\n",
       "      <td>80.0</td>\n",
       "      <td>1</td>\n",
       "      <td>0.03</td>\n",
       "      <td>Apartment</td>\n",
       "      <td>1</td>\n",
       "      <td>2019</td>\n",
       "      <td>0</td>\n",
       "    </tr>\n",
       "    <tr>\n",
       "      <th>1</th>\n",
       "      <td>27</td>\n",
       "      <td>0.0</td>\n",
       "      <td>Eixample</td>\n",
       "      <td>2.173058</td>\n",
       "      <td>6</td>\n",
       "      <td>18674</td>\n",
       "      <td>3</td>\n",
       "      <td>8</td>\n",
       "      <td>Entire home/apt</td>\n",
       "      <td>5</td>\n",
       "      <td>0.0</td>\n",
       "      <td>1901</td>\n",
       "      <td>60.0</td>\n",
       "      <td>55</td>\n",
       "      <td>22</td>\n",
       "      <td>41.404197</td>\n",
       "      <td>12</td>\n",
       "      <td>326</td>\n",
       "      <td>85.0</td>\n",
       "      <td>2</td>\n",
       "      <td>0.07</td>\n",
       "      <td>Apartment</td>\n",
       "      <td>1</td>\n",
       "      <td>2019</td>\n",
       "      <td>0</td>\n",
       "    </tr>\n",
       "    <tr>\n",
       "      <th>2</th>\n",
       "      <td>23</td>\n",
       "      <td>0.0</td>\n",
       "      <td>Horta-Guinardó</td>\n",
       "      <td>2.170701</td>\n",
       "      <td>2</td>\n",
       "      <td>31377</td>\n",
       "      <td>1</td>\n",
       "      <td>2</td>\n",
       "      <td>Private room</td>\n",
       "      <td>4</td>\n",
       "      <td>0.0</td>\n",
       "      <td>1901</td>\n",
       "      <td>42.0</td>\n",
       "      <td>30</td>\n",
       "      <td>26</td>\n",
       "      <td>41.410969</td>\n",
       "      <td>14</td>\n",
       "      <td>184</td>\n",
       "      <td>95.0</td>\n",
       "      <td>1</td>\n",
       "      <td>0.09</td>\n",
       "      <td>Apartment</td>\n",
       "      <td>1</td>\n",
       "      <td>2019</td>\n",
       "      <td>0</td>\n",
       "    </tr>\n",
       "    <tr>\n",
       "      <th>3</th>\n",
       "      <td>38</td>\n",
       "      <td>0.0</td>\n",
       "      <td>Horta-Guinardó</td>\n",
       "      <td>2.170819</td>\n",
       "      <td>2</td>\n",
       "      <td>31380</td>\n",
       "      <td>1</td>\n",
       "      <td>3</td>\n",
       "      <td>Private room</td>\n",
       "      <td>39</td>\n",
       "      <td>0.0</td>\n",
       "      <td>1901</td>\n",
       "      <td>53.0</td>\n",
       "      <td>47</td>\n",
       "      <td>26</td>\n",
       "      <td>41.410900</td>\n",
       "      <td>24</td>\n",
       "      <td>204</td>\n",
       "      <td>87.0</td>\n",
       "      <td>1</td>\n",
       "      <td>0.90</td>\n",
       "      <td>Apartment</td>\n",
       "      <td>1</td>\n",
       "      <td>2019</td>\n",
       "      <td>0</td>\n",
       "    </tr>\n",
       "    <tr>\n",
       "      <th>4</th>\n",
       "      <td>52</td>\n",
       "      <td>0.0</td>\n",
       "      <td>Gràcia</td>\n",
       "      <td>2.159376</td>\n",
       "      <td>1</td>\n",
       "      <td>31958</td>\n",
       "      <td>1</td>\n",
       "      <td>4</td>\n",
       "      <td>Entire home/apt</td>\n",
       "      <td>151</td>\n",
       "      <td>0.0</td>\n",
       "      <td>1901</td>\n",
       "      <td>60.0</td>\n",
       "      <td>80</td>\n",
       "      <td>10</td>\n",
       "      <td>41.409498</td>\n",
       "      <td>25</td>\n",
       "      <td>342</td>\n",
       "      <td>91.0</td>\n",
       "      <td>1</td>\n",
       "      <td>1.57</td>\n",
       "      <td>Apartment</td>\n",
       "      <td>1</td>\n",
       "      <td>2019</td>\n",
       "      <td>0</td>\n",
       "    </tr>\n",
       "  </tbody>\n",
       "</table>\n",
       "</div>"
      ],
      "text/plain": [
       "   availability_60  CasosCovMesAnt neighbourhood_group_cleansed  longitude  \\\n",
       "0                0             0.0                   Sant Martí   2.185545   \n",
       "1               27             0.0                     Eixample   2.173058   \n",
       "2               23             0.0               Horta-Guinardó   2.170701   \n",
       "3               38             0.0               Horta-Guinardó   2.170819   \n",
       "4               52             0.0                       Gràcia   2.159376   \n",
       "\n",
       "   beds     id  bedrooms  accommodates        room_type  number_of_reviews  \\\n",
       "0     4  18666         2             6  Entire home/apt                  1   \n",
       "1     6  18674         3             8  Entire home/apt                  5   \n",
       "2     2  31377         1             2     Private room                  4   \n",
       "3     2  31380         1             3     Private room                 39   \n",
       "4     1  31958         1             4  Entire home/apt                151   \n",
       "\n",
       "   CasosCovMes  file_date  price  availability_90  amenities   latitude  \\\n",
       "0          0.0       1901  130.0                0         18  41.408886   \n",
       "1          0.0       1901   60.0               55         22  41.404197   \n",
       "2          0.0       1901   42.0               30         26  41.410969   \n",
       "3          0.0       1901   53.0               47         26  41.410900   \n",
       "4          0.0       1901   60.0               80         10  41.409498   \n",
       "\n",
       "   availability_30  availability_365  review_scores_rating  bathrooms  \\\n",
       "0                0                 6                  80.0          1   \n",
       "1               12               326                  85.0          2   \n",
       "2               14               184                  95.0          1   \n",
       "3               24               204                  87.0          1   \n",
       "4               25               342                  91.0          1   \n",
       "\n",
       "   reviews_per_month property_type  month  year  is_high_season  \n",
       "0               0.03     Apartment      1  2019               0  \n",
       "1               0.07     Apartment      1  2019               0  \n",
       "2               0.09     Apartment      1  2019               0  \n",
       "3               0.90     Apartment      1  2019               0  \n",
       "4               1.57     Apartment      1  2019               0  "
      ]
     },
     "execution_count": 20,
     "metadata": {},
     "output_type": "execute_result"
    }
   ],
   "source": [
    "listings.head()"
   ]
  },
  {
   "cell_type": "markdown",
   "id": "a2d602a9",
   "metadata": {},
   "source": [
    "### 1. Preparing the dataset to make predictions"
   ]
  },
  {
   "cell_type": "code",
   "execution_count": 22,
   "id": "09335b3a",
   "metadata": {},
   "outputs": [],
   "source": [
    "useful_features = ['id', 'year', 'month', 'CasosCovMes', 'CasosCovMesAnt', 'beds', 'bedrooms', \n",
    "                   'number_of_reviews', 'amenities', 'room_type',  'bathrooms', 'price',\n",
    "                   'reviews_per_month', 'accommodates', 'review_scores_rating', 'neighbourhood_group_cleansed', \n",
    "                  'is_high_season', 'availability_30', 'availability_60']"
   ]
  },
  {
   "cell_type": "code",
   "execution_count": 23,
   "id": "ef8f3b60",
   "metadata": {},
   "outputs": [],
   "source": [
    "df = listings[useful_features].groupby(['year', 'month', 'id'], as_index=False).mean()\n",
    "\n",
    "timeline = df['year']*12 + df['month']\n",
    "df.insert(2, 'monthly_timeline', timeline)"
   ]
  },
  {
   "cell_type": "markdown",
   "id": "3807927c",
   "metadata": {},
   "source": [
    "### 3. Preprocessing data"
   ]
  },
  {
   "cell_type": "code",
   "execution_count": 25,
   "id": "137591c1",
   "metadata": {},
   "outputs": [],
   "source": [
    "# This step takes some minutes to finish.\n",
    "\n",
    "ids = df.id.unique()\n",
    "\n",
    "df['av60_lag1'] = 0.0\n",
    "df['av60_lag2'] = 0.0\n",
    "\n",
    "for id in ids:\n",
    "    df.loc[df.id == id, 'av60_lag1'] = df[df.id == id]['availability_60'].shift(1)\n",
    "    df.loc[df.id == id, 'av60_lag2'] = df[df.id == id]['availability_60'].shift(2)"
   ]
  },
  {
   "cell_type": "code",
   "execution_count": 26,
   "id": "11de07ba",
   "metadata": {},
   "outputs": [],
   "source": [
    "df2 = df.dropna().copy()"
   ]
  },
  {
   "cell_type": "code",
   "execution_count": 28,
   "id": "298b38fd",
   "metadata": {},
   "outputs": [
    {
     "data": {
      "text/plain": [
       "(381417, 20)"
      ]
     },
     "execution_count": 28,
     "metadata": {},
     "output_type": "execute_result"
    }
   ],
   "source": [
    "df2.shape"
   ]
  },
  {
   "cell_type": "code",
   "execution_count": 29,
   "id": "97bcbca6",
   "metadata": {},
   "outputs": [
    {
     "data": {
      "text/html": [
       "<div>\n",
       "<style scoped>\n",
       "    .dataframe tbody tr th:only-of-type {\n",
       "        vertical-align: middle;\n",
       "    }\n",
       "\n",
       "    .dataframe tbody tr th {\n",
       "        vertical-align: top;\n",
       "    }\n",
       "\n",
       "    .dataframe thead th {\n",
       "        text-align: right;\n",
       "    }\n",
       "</style>\n",
       "<table border=\"1\" class=\"dataframe\">\n",
       "  <thead>\n",
       "    <tr style=\"text-align: right;\">\n",
       "      <th></th>\n",
       "      <th>year</th>\n",
       "      <th>month</th>\n",
       "      <th>monthly_timeline</th>\n",
       "      <th>id</th>\n",
       "      <th>CasosCovMes</th>\n",
       "      <th>CasosCovMesAnt</th>\n",
       "      <th>beds</th>\n",
       "      <th>bedrooms</th>\n",
       "      <th>number_of_reviews</th>\n",
       "      <th>amenities</th>\n",
       "      <th>bathrooms</th>\n",
       "      <th>price</th>\n",
       "      <th>reviews_per_month</th>\n",
       "      <th>accommodates</th>\n",
       "      <th>review_scores_rating</th>\n",
       "      <th>is_high_season</th>\n",
       "      <th>availability_30</th>\n",
       "      <th>availability_60</th>\n",
       "      <th>av60_lag1</th>\n",
       "      <th>av60_lag2</th>\n",
       "    </tr>\n",
       "  </thead>\n",
       "  <tbody>\n",
       "    <tr>\n",
       "      <th>30754</th>\n",
       "      <td>2019</td>\n",
       "      <td>3</td>\n",
       "      <td>24231</td>\n",
       "      <td>18666</td>\n",
       "      <td>0.0</td>\n",
       "      <td>0.0</td>\n",
       "      <td>4.0</td>\n",
       "      <td>2.0</td>\n",
       "      <td>1.0</td>\n",
       "      <td>18.0</td>\n",
       "      <td>1.0</td>\n",
       "      <td>130.0</td>\n",
       "      <td>0.02</td>\n",
       "      <td>6.0</td>\n",
       "      <td>80.0</td>\n",
       "      <td>0.0</td>\n",
       "      <td>0.0</td>\n",
       "      <td>0.0</td>\n",
       "      <td>0.0</td>\n",
       "      <td>0.0</td>\n",
       "    </tr>\n",
       "    <tr>\n",
       "      <th>30755</th>\n",
       "      <td>2019</td>\n",
       "      <td>3</td>\n",
       "      <td>24231</td>\n",
       "      <td>18674</td>\n",
       "      <td>0.0</td>\n",
       "      <td>0.0</td>\n",
       "      <td>6.0</td>\n",
       "      <td>3.0</td>\n",
       "      <td>6.0</td>\n",
       "      <td>22.0</td>\n",
       "      <td>2.0</td>\n",
       "      <td>60.0</td>\n",
       "      <td>0.09</td>\n",
       "      <td>8.0</td>\n",
       "      <td>80.0</td>\n",
       "      <td>0.0</td>\n",
       "      <td>22.0</td>\n",
       "      <td>44.0</td>\n",
       "      <td>31.0</td>\n",
       "      <td>27.0</td>\n",
       "    </tr>\n",
       "    <tr>\n",
       "      <th>30758</th>\n",
       "      <td>2019</td>\n",
       "      <td>3</td>\n",
       "      <td>24231</td>\n",
       "      <td>31377</td>\n",
       "      <td>0.0</td>\n",
       "      <td>0.0</td>\n",
       "      <td>2.0</td>\n",
       "      <td>1.0</td>\n",
       "      <td>4.0</td>\n",
       "      <td>26.0</td>\n",
       "      <td>1.0</td>\n",
       "      <td>42.0</td>\n",
       "      <td>0.09</td>\n",
       "      <td>2.0</td>\n",
       "      <td>95.0</td>\n",
       "      <td>0.0</td>\n",
       "      <td>5.0</td>\n",
       "      <td>12.0</td>\n",
       "      <td>16.0</td>\n",
       "      <td>23.0</td>\n",
       "    </tr>\n",
       "    <tr>\n",
       "      <th>30759</th>\n",
       "      <td>2019</td>\n",
       "      <td>3</td>\n",
       "      <td>24231</td>\n",
       "      <td>31380</td>\n",
       "      <td>0.0</td>\n",
       "      <td>0.0</td>\n",
       "      <td>2.0</td>\n",
       "      <td>1.0</td>\n",
       "      <td>39.0</td>\n",
       "      <td>26.0</td>\n",
       "      <td>1.0</td>\n",
       "      <td>53.0</td>\n",
       "      <td>0.86</td>\n",
       "      <td>3.0</td>\n",
       "      <td>87.0</td>\n",
       "      <td>0.0</td>\n",
       "      <td>7.0</td>\n",
       "      <td>11.0</td>\n",
       "      <td>15.0</td>\n",
       "      <td>38.0</td>\n",
       "    </tr>\n",
       "    <tr>\n",
       "      <th>30760</th>\n",
       "      <td>2019</td>\n",
       "      <td>3</td>\n",
       "      <td>24231</td>\n",
       "      <td>31958</td>\n",
       "      <td>0.0</td>\n",
       "      <td>0.0</td>\n",
       "      <td>1.0</td>\n",
       "      <td>1.0</td>\n",
       "      <td>154.0</td>\n",
       "      <td>10.0</td>\n",
       "      <td>1.0</td>\n",
       "      <td>62.0</td>\n",
       "      <td>1.57</td>\n",
       "      <td>4.0</td>\n",
       "      <td>92.0</td>\n",
       "      <td>0.0</td>\n",
       "      <td>6.0</td>\n",
       "      <td>16.0</td>\n",
       "      <td>36.0</td>\n",
       "      <td>52.0</td>\n",
       "    </tr>\n",
       "  </tbody>\n",
       "</table>\n",
       "</div>"
      ],
      "text/plain": [
       "       year  month  monthly_timeline     id  CasosCovMes  CasosCovMesAnt  \\\n",
       "30754  2019      3             24231  18666          0.0             0.0   \n",
       "30755  2019      3             24231  18674          0.0             0.0   \n",
       "30758  2019      3             24231  31377          0.0             0.0   \n",
       "30759  2019      3             24231  31380          0.0             0.0   \n",
       "30760  2019      3             24231  31958          0.0             0.0   \n",
       "\n",
       "       beds  bedrooms  number_of_reviews  amenities  bathrooms  price  \\\n",
       "30754   4.0       2.0                1.0       18.0        1.0  130.0   \n",
       "30755   6.0       3.0                6.0       22.0        2.0   60.0   \n",
       "30758   2.0       1.0                4.0       26.0        1.0   42.0   \n",
       "30759   2.0       1.0               39.0       26.0        1.0   53.0   \n",
       "30760   1.0       1.0              154.0       10.0        1.0   62.0   \n",
       "\n",
       "       reviews_per_month  accommodates  review_scores_rating  is_high_season  \\\n",
       "30754               0.02           6.0                  80.0             0.0   \n",
       "30755               0.09           8.0                  80.0             0.0   \n",
       "30758               0.09           2.0                  95.0             0.0   \n",
       "30759               0.86           3.0                  87.0             0.0   \n",
       "30760               1.57           4.0                  92.0             0.0   \n",
       "\n",
       "       availability_30  availability_60  av60_lag1  av60_lag2  \n",
       "30754              0.0              0.0        0.0        0.0  \n",
       "30755             22.0             44.0       31.0       27.0  \n",
       "30758              5.0             12.0       16.0       23.0  \n",
       "30759              7.0             11.0       15.0       38.0  \n",
       "30760              6.0             16.0       36.0       52.0  "
      ]
     },
     "execution_count": 29,
     "metadata": {},
     "output_type": "execute_result"
    }
   ],
   "source": [
    "df2.head()"
   ]
  },
  {
   "cell_type": "markdown",
   "id": "a8141973",
   "metadata": {},
   "source": [
    "### 2. Split train and test set"
   ]
  },
  {
   "cell_type": "code",
   "execution_count": 30,
   "id": "54af89f8",
   "metadata": {},
   "outputs": [],
   "source": [
    "train = df2[df2['monthly_timeline'] <= 24255].copy()\n",
    "test = df2[df2['monthly_timeline'] > 24255].copy()"
   ]
  },
  {
   "cell_type": "code",
   "execution_count": 31,
   "id": "acb649eb",
   "metadata": {},
   "outputs": [],
   "source": [
    "X_train, y_train = train.drop('availability_60', axis=1), train['availability_60']\n",
    "X_test, y_test = test.drop('availability_60', axis=1), test['availability_60']"
   ]
  },
  {
   "cell_type": "markdown",
   "id": "3148580c",
   "metadata": {},
   "source": [
    "### 3. Standardization and Normalization"
   ]
  },
  {
   "cell_type": "code",
   "execution_count": 32,
   "id": "6dddc6e5",
   "metadata": {},
   "outputs": [],
   "source": [
    "transformer = RobustScaler()\n",
    "X_train_norm = transformer.fit_transform(X_train)\n",
    "X_test_norm = transformer.transform(X_test)"
   ]
  },
  {
   "cell_type": "markdown",
   "id": "0e89f595",
   "metadata": {},
   "source": [
    "### 4. Train XGBoost model"
   ]
  },
  {
   "cell_type": "code",
   "execution_count": 33,
   "id": "669b20ca",
   "metadata": {},
   "outputs": [],
   "source": [
    "xgb_model = xgb.XGBRegressor()"
   ]
  },
  {
   "cell_type": "code",
   "execution_count": 34,
   "id": "66f68ae2",
   "metadata": {},
   "outputs": [
    {
     "data": {
      "text/plain": [
       "XGBRegressor(base_score=0.5, booster='gbtree', colsample_bylevel=1,\n",
       "             colsample_bynode=1, colsample_bytree=1, gamma=0, gpu_id=-1,\n",
       "             importance_type='gain', interaction_constraints='',\n",
       "             learning_rate=0.300000012, max_delta_step=0, max_depth=6,\n",
       "             min_child_weight=1, missing=nan, monotone_constraints='()',\n",
       "             n_estimators=100, n_jobs=4, num_parallel_tree=1, random_state=0,\n",
       "             reg_alpha=0, reg_lambda=1, scale_pos_weight=1, subsample=1,\n",
       "             tree_method='exact', validate_parameters=1, verbosity=None)"
      ]
     },
     "execution_count": 34,
     "metadata": {},
     "output_type": "execute_result"
    }
   ],
   "source": [
    "xgb_model.fit(X_train_norm, y_train)"
   ]
  },
  {
   "cell_type": "markdown",
   "id": "d69e6878",
   "metadata": {},
   "source": [
    "### 5. Predict and validate results"
   ]
  },
  {
   "cell_type": "code",
   "execution_count": 35,
   "id": "1c85caae",
   "metadata": {},
   "outputs": [],
   "source": [
    "# Predict\n",
    "\n",
    "train_pred = xgb_model.predict(X_train_norm)\n",
    "test_pred = xgb_model.predict(X_test_norm)"
   ]
  },
  {
   "cell_type": "code",
   "execution_count": 36,
   "id": "b6d9c9b9",
   "metadata": {},
   "outputs": [],
   "source": [
    "# Compute RMSE\n",
    "\n",
    "train_rmse = mean_squared_error(y_train, train_pred)\n",
    "test_rmse = mean_squared_error(y_test, test_pred)"
   ]
  },
  {
   "cell_type": "code",
   "execution_count": 38,
   "id": "14135551",
   "metadata": {},
   "outputs": [
    {
     "name": "stdout",
     "output_type": "stream",
     "text": [
      "The Train RMSE is 43.75\n",
      "The Test RMSE is 42.70\n"
     ]
    }
   ],
   "source": [
    "print(f'The Train RMSE is {train_rmse:.2f}\\nThe Test RMSE is {test_rmse:.2f}')"
   ]
  },
  {
   "cell_type": "markdown",
   "id": "bba4c6bf",
   "metadata": {},
   "source": [
    "### 6. Variable importance for the model"
   ]
  },
  {
   "cell_type": "code",
   "execution_count": 39,
   "id": "b82edabb",
   "metadata": {},
   "outputs": [
    {
     "data": {
      "image/png": "[encoded data removed]",
      "text/plain": [
       "<Figure size 576x360 with 1 Axes>"
      ]
     },
     "metadata": {
      "needs_background": "light"
     },
     "output_type": "display_data"
    }
   ],
   "source": [
    "# Producing a dataframe of feature importances\n",
    "features_weights = pd.DataFrame(xgb_model.feature_importances_, columns=['weight'], index=X_train.columns)\n",
    "features_weights.sort_values('weight', inplace=True)\n",
    "\n",
    "# Plotting feature importances\n",
    "plt.figure(figsize=(8,5))\n",
    "plt.barh(features_weights.index, features_weights.weight, align='center') \n",
    "plt.title(\"Feature importances in the XGBoost model\", fontsize=14)\n",
    "plt.xlabel(\"Feature importance\")\n",
    "plt.margins(y=0.01)\n",
    "plt.show()"
   ]
  }
 ],
 "metadata": {
  "kernelspec": {
   "display_name": "Python 3",
   "language": "python",
   "name": "python3"
  },
  "language_info": {
   "codemirror_mode": {
    "name": "ipython",
    "version": 3
   },
   "file_extension": ".py",
   "mimetype": "text/x-python",
   "name": "python",
   "nbconvert_exporter": "python",
   "pygments_lexer": "ipython3",
   "version": "3.9.2"
  }
 },
 "nbformat": 4,
 "nbformat_minor": 5
}
