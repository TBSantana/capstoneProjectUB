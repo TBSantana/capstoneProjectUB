{
  "nbformat": 4,
  "nbformat_minor": 0,
  "metadata": {
    "kernelspec": {
      "display_name": "Python 3",
      "language": "python",
      "name": "python3"
    },
    "language_info": {
      "codemirror_mode": {
        "name": "ipython",
        "version": 3
      },
      "file_extension": ".py",
      "mimetype": "text/x-python",
      "name": "python",
      "nbconvert_exporter": "python",
      "pygments_lexer": "ipython3",
      "version": "3.7.6"
    },
    "colab": {
      "name": "RNN_LSTM_tuned.ipynb",
      "provenance": [],
      "collapsed_sections": [],
      "include_colab_link": true
    },
    "accelerator": "GPU"
  },
  "cells": [
    {
      "cell_type": "markdown",
      "metadata": {
        "id": "view-in-github",
        "colab_type": "text"
      },
      "source": [
        "<a href=\"https://colab.research.google.com/github/TBSantana/capstoneProjectUB/blob/main/src/train/RNN_LSTM_tuned.ipynb\" target=\"_parent\"><img src=\"https://colab.research.google.com/assets/colab-badge.svg\" alt=\"Open In Colab\"/></a>"
      ]
    },
    {
      "cell_type": "markdown",
      "metadata": {
        "id": "rHZj-3Kbqu2G"
      },
      "source": [
        "The cell bellow must be executed in order to install library used during the Hyperparameter Tuning."
      ]
    },
    {
      "cell_type": "code",
      "metadata": {
        "id": "_qSepQgwIi3s"
      },
      "source": [
        "#!pip install scikit-optimize"
      ],
      "execution_count": null,
      "outputs": []
    },
    {
      "cell_type": "code",
      "metadata": {
        "id": "Df8v6Ye2b46b"
      },
      "source": [
        "import pandas as pd\n",
        "import numpy as np\n",
        "from datetime import datetime, timedelta\n",
        "import matplotlib.pyplot as plt\n",
        "%matplotlib inline\n",
        "\n",
        "import torch\n",
        "import torch.nn as nn\n",
        "from torch import optim\n",
        "import torch.nn.functional as F\n",
        "\n",
        "from sklearn.preprocessing import MinMaxScaler\n",
        "from sklearn.metrics import mean_absolute_error\n",
        "\n",
        "from skopt import gp_minimize"
      ],
      "execution_count": null,
      "outputs": []
    },
    {
      "cell_type": "markdown",
      "metadata": {
        "id": "csXOFiCWsmhn"
      },
      "source": [
        "## 1. Read and split the data\n",
        "\n",
        "This cell read the transformed full data and creates two new variables `sin_month` and `cos_month`. These variables are responsable to inform the model the cyclical nature of the month. For instance, the month 12 is not 12 times greater than the month 1, since they are just 30 days away from each other.\n",
        "\n",
        "After that, we are splitting the data indo train and validation. The are some notes about the splitting:\n",
        "+ Each input for our model must have 3 rows. Due to this, our valid dataset has a size that multiple of 3;\n",
        "+ The last 3 months are dedicated to the validation;"
      ]
    },
    {
      "cell_type": "code",
      "metadata": {
        "colab": {
          "base_uri": "https://localhost:8080/"
        },
        "id": "GKCcWvqlRgWR",
        "outputId": "23196b48-ce27-4489-d885-adaf0d0f1027"
      },
      "source": [
        "cols = ['year', 'month', 'CasosCovMes', 'CasosCovMesAnt',  'availability_30', 'availability_60']\n",
        "data = pd.read_csv('listings_transformed.csv.gz', usecols=cols)\n",
        "\n",
        "df = data.groupby(['year', 'month'], as_index=False).mean()\n",
        "df = df[['year', 'CasosCovMesAnt', 'CasosCovMes', 'availability_30', 'month', 'availability_60']]\n",
        "\n",
        "df['sin_month'] = np.sin(2 * np.pi * df['month'] / 12)\n",
        "df['cos_month'] = np.cos(2 * np.pi * df['month'] / 12)\n",
        "df = df.drop(columns=['month'])\n",
        "\n",
        "train = df.iloc[1:25]\n",
        "val = df.iloc[22:]\n",
        "\n",
        "print('Train shape:', train.shape)\n",
        "print('Val shape:', val.shape)"
      ],
      "execution_count": null,
      "outputs": [
        {
          "output_type": "stream",
          "text": [
            "Train shape: (24, 7)\n",
            "Val shape: (6, 7)\n"
          ],
          "name": "stdout"
        }
      ]
    },
    {
      "cell_type": "markdown",
      "metadata": {
        "id": "VztLUmQ8vUfW"
      },
      "source": [
        "## 2. Data Normalization\n",
        "\n",
        "Before starting the training, we must normalize the data because they have different ranges. After this step, all data values must lie between -1 and 1."
      ]
    },
    {
      "cell_type": "code",
      "metadata": {
        "id": "bMCTE7kginCN"
      },
      "source": [
        "scaler = MinMaxScaler(feature_range=(-1, 1))\n",
        "scalerY = MinMaxScaler(feature_range=(-1, 1))\n",
        "\n",
        "scaler.fit(train)\n",
        "scalerY.fit(train['availability_60'].values.reshape(-1, 1));"
      ],
      "execution_count": null,
      "outputs": []
    },
    {
      "cell_type": "markdown",
      "metadata": {
        "id": "PQKdailTv62X"
      },
      "source": [
        "This function was built to convert our tabular dataset into a 3-D numpy array, with the shape (steps, samples, features)."
      ]
    },
    {
      "cell_type": "code",
      "metadata": {
        "id": "HIvb8iL3mmkN"
      },
      "source": [
        "def prep_seqs(df, scalerX, scalerY, l=3, h=3):\n",
        "    X = []\n",
        "    Y = []\n",
        "    for i in range(l, df.shape[0]-h):\n",
        "        f = df.iloc[i-l:i]\n",
        "        y = df.iloc[i:i+h]['availability_60'] \n",
        "\n",
        "        X.append(scalerX.transform(f))\n",
        "        Y.append(scalerY.transform(y.values.reshape(-1, 1)))\n",
        "\n",
        "    X = np.array(X)\n",
        "    Y = np.array(Y)\n",
        "\n",
        "    X = np.swapaxes(X, 0, 1)\n",
        "    \n",
        "    return torch.from_numpy(X).float(), torch.from_numpy(Y).float().squeeze()"
      ],
      "execution_count": null,
      "outputs": []
    },
    {
      "cell_type": "markdown",
      "metadata": {
        "id": "cI0wLZ04wR-c"
      },
      "source": [
        "Since we are going to execute our training in the GPU, all data (training and validation) must be in the GPU as well."
      ]
    },
    {
      "cell_type": "code",
      "metadata": {
        "colab": {
          "base_uri": "https://localhost:8080/"
        },
        "id": "YGhmTtCxcRoM",
        "outputId": "11cb5d82-4298-4490-ffcf-4bb3db32b988"
      },
      "source": [
        "X, Y = prep_seqs(train, scaler, scalerY)\n",
        "\n",
        "xval = val.iloc[-6:-3]\n",
        "Xt = scaler.transform(xval.values)\n",
        "Xt = np.expand_dims(Xt, axis=1)\n",
        "Xt = torch.from_numpy(Xt).float()\n",
        "\n",
        "yval = val.iloc[-3:]['availability_60']\n",
        "Yt = scalerY.transform(yval.values.reshape(-1, 1))\n",
        "Yt = torch.from_numpy(Yt).float().squeeze()\n",
        "\n",
        "X = X.cuda()\n",
        "Y = Y.cuda()\n",
        "\n",
        "Xt = Xt.cuda()\n",
        "\n",
        "print('X shape: {} and Y shape: {}'.format(X.shape, Y.shape))\n",
        "print('Xt shape: {} and Yt shape: {}'.format(Xt.shape, Yt.shape))\n",
        "# X shape is (steps, samples, features)"
      ],
      "execution_count": null,
      "outputs": [
        {
          "output_type": "stream",
          "text": [
            "X shape: torch.Size([3, 18, 7]) and Y shape: torch.Size([18, 3])\n",
            "Xt shape: torch.Size([3, 1, 7]) and Yt shape: torch.Size([3])\n"
          ],
          "name": "stdout"
        }
      ]
    },
    {
      "cell_type": "markdown",
      "metadata": {
        "id": "ZjKOyqGXwgJ1"
      },
      "source": [
        "## 3. Training process\n",
        "\n",
        "We are going to use a Recurrent Neural Network (RNN) from Pytorch to train our model. The network architecture is made by one layer of Long-Short Term Memory (LSTM) and one Linear layer."
      ]
    },
    {
      "cell_type": "code",
      "metadata": {
        "id": "aEocdhYgb46i"
      },
      "source": [
        "class LSTMRNN(nn.Module):\n",
        "    def __init__(self, hidden_size, input_size):\n",
        "        super(LSTMRNN, self).__init__()\n",
        "        self.input_size = input_size\n",
        "        self.hidden_size = hidden_size\n",
        "        self.lstm = nn.LSTM(self.input_size, self.hidden_size)\n",
        "        self.out = nn.Linear(self.hidden_size, 3)\n",
        "        \n",
        "    def forward(self, input):\n",
        "        output, _ = self.lstm(input)\n",
        "        output = output[-1, :, :]\n",
        "        output = self.out(output) \n",
        "        return output    "
      ],
      "execution_count": null,
      "outputs": []
    },
    {
      "cell_type": "markdown",
      "metadata": {
        "id": "mGHS-4ps2T0K"
      },
      "source": [
        "## 4. Target reconstruction\n",
        "\n",
        "This function was created to make the inverse transformation of the normalized data. For instance, if a avaibility_60 was originally 35, it became 0.5 after normalization. Inside this function, it turn into 35 again before we compute the absolute error of the training."
      ]
    },
    {
      "cell_type": "code",
      "metadata": {
        "id": "fPgid6zTvn3d"
      },
      "source": [
        "def evaluate_model(scaler, y, pred):\n",
        "\n",
        "  y_real = scaler.inverse_transform(y.numpy().reshape(-1, 1))\n",
        "  y_hat = scaler.inverse_transform(pred.numpy().reshape(-1, 1))\n",
        "  return y_hat, mean_absolute_error(y_real, y_hat)"
      ],
      "execution_count": null,
      "outputs": []
    },
    {
      "cell_type": "markdown",
      "metadata": {
        "id": "GQHeBI2e3boF"
      },
      "source": [
        "## 5. Training\n",
        "\n",
        "This function execute the training process. During our implementation, we have observed that even using seeds, our results still was changing. Due to that, we decided to train the model many times, one for each seed. Then, compute the average error of each seed. This result should be a better estimator of the final prediction error. "
      ]
    },
    {
      "cell_type": "code",
      "metadata": {
        "id": "9Sp2pkPhttiT"
      },
      "source": [
        "def train_LSTM(X, Y, Xt, Yt, hidden_size=100, learning_rate=1e-3, epochs=10, n_seeds=10):\n",
        "\n",
        "  total_errors = np.zeros((Yt.shape[0], 1, n_seeds))\n",
        "\n",
        "  for seed in range(n_seeds):\n",
        "    torch.manual_seed(seed)\n",
        "    np.random.seed(seed)\n",
        "\n",
        "    lstm = LSTMRNN(hidden_size, X.shape[-1]).cuda()\n",
        "\n",
        "    criterion = nn.L1Loss()\n",
        "    lstm_optimizer = optim.Adam(lstm.parameters(), lr=learning_rate)\n",
        "\n",
        "    for i in range(epochs):\n",
        "        lstm.zero_grad()\n",
        "        \n",
        "        o = lstm(X)\n",
        "        loss = criterion(o, Y)\n",
        "        loss.backward()\n",
        "        lstm_optimizer.step()\n",
        "\n",
        "        p = lstm(Xt)\n",
        "        p = p.detach().cpu()\n",
        "    \n",
        "    y_hat, error = evaluate_model(scalerY, Yt, p)\n",
        "    total_errors[:, :, seed] = error\n",
        "\n",
        "    print('Seed {} - Error: {:.3f}'.format(seed, error))\n",
        "\n",
        "  avg_seed_error = total_errors.mean(axis=-1)\n",
        "\n",
        "  return lstm, y_hat, avg_seed_error[0][0]"
      ],
      "execution_count": null,
      "outputs": []
    },
    {
      "cell_type": "markdown",
      "metadata": {
        "id": "vfu9_RJh41Yb"
      },
      "source": [
        "The prints below show how different our errors could be, just by chance. The final error printed in `Ensemble Average Score` is a more reliable value."
      ]
    },
    {
      "cell_type": "code",
      "metadata": {
        "colab": {
          "base_uri": "https://localhost:8080/"
        },
        "id": "YMXnOPIexEUk",
        "outputId": "dcd55665-7121-41bc-f232-fa30b07c67fd"
      },
      "source": [
        "%%time\n",
        "lstm_model, y_hat, absolute_error = train_LSTM(X, Y, Xt, Yt)\n",
        "print('\\nEnsemble Avg Score = {:.3f}\\n'.format(absolute_error))"
      ],
      "execution_count": null,
      "outputs": [
        {
          "output_type": "stream",
          "text": [
            "Seed 0 - Error: 2.199\n",
            "Seed 1 - Error: 3.522\n",
            "Seed 2 - Error: 2.603\n",
            "Seed 3 - Error: 2.998\n",
            "Seed 4 - Error: 2.804\n",
            "Seed 5 - Error: 2.416\n",
            "Seed 6 - Error: 2.585\n",
            "Seed 7 - Error: 3.131\n",
            "Seed 8 - Error: 2.264\n",
            "Seed 9 - Error: 1.950\n",
            "\n",
            "Ensemble Avg Score = 2.647\n",
            "\n",
            "CPU times: user 230 ms, sys: 14.6 ms, total: 244 ms\n",
            "Wall time: 244 ms\n"
          ],
          "name": "stdout"
        }
      ]
    },
    {
      "cell_type": "markdown",
      "metadata": {
        "id": "RTQVMNq05gvU"
      },
      "source": [
        "## 6. Prediction\n",
        "\n",
        "The predicted values are the months between february and april. Its important to say that there was not hyperparameter tuning for the previous model. The network has captured the downward curve, but it was not that close of the real values. "
      ]
    },
    {
      "cell_type": "code",
      "metadata": {
        "id": "0MoOx7hXFIf1",
        "colab": {
          "base_uri": "https://localhost:8080/",
          "height": 142
        },
        "outputId": "cd131879-c9c4-4b47-d7e5-9b29f01a8833"
      },
      "source": [
        "y_real = scalerY.inverse_transform(Yt.numpy().reshape(-1, 1))\n",
        "\n",
        "ndf = pd.DataFrame({'y_real': y_real[:,0], 'y_hat': y_hat[:,0]}, index=np.arange(y_hat.shape[0]))\n",
        "ndf"
      ],
      "execution_count": null,
      "outputs": [
        {
          "output_type": "execute_result",
          "data": {
            "text/html": [
              "<div>\n",
              "<style scoped>\n",
              "    .dataframe tbody tr th:only-of-type {\n",
              "        vertical-align: middle;\n",
              "    }\n",
              "\n",
              "    .dataframe tbody tr th {\n",
              "        vertical-align: top;\n",
              "    }\n",
              "\n",
              "    .dataframe thead th {\n",
              "        text-align: right;\n",
              "    }\n",
              "</style>\n",
              "<table border=\"1\" class=\"dataframe\">\n",
              "  <thead>\n",
              "    <tr style=\"text-align: right;\">\n",
              "      <th></th>\n",
              "      <th>y_real</th>\n",
              "      <th>y_hat</th>\n",
              "    </tr>\n",
              "  </thead>\n",
              "  <tbody>\n",
              "    <tr>\n",
              "      <th>0</th>\n",
              "      <td>37.524391</td>\n",
              "      <td>34.572319</td>\n",
              "    </tr>\n",
              "    <tr>\n",
              "      <th>1</th>\n",
              "      <td>36.568878</td>\n",
              "      <td>34.632740</td>\n",
              "    </tr>\n",
              "    <tr>\n",
              "      <th>2</th>\n",
              "      <td>34.651894</td>\n",
              "      <td>33.691040</td>\n",
              "    </tr>\n",
              "  </tbody>\n",
              "</table>\n",
              "</div>"
            ],
            "text/plain": [
              "      y_real      y_hat\n",
              "0  37.524391  34.572319\n",
              "1  36.568878  34.632740\n",
              "2  34.651894  33.691040"
            ]
          },
          "metadata": {
            "tags": []
          },
          "execution_count": 196
        }
      ]
    },
    {
      "cell_type": "code",
      "metadata": {
        "colab": {
          "base_uri": "https://localhost:8080/",
          "height": 265
        },
        "id": "HQsDC0d9FTe8",
        "outputId": "98dc727c-cac5-47a7-cf32-43da3b72d812"
      },
      "source": [
        "ndf.plot();"
      ],
      "execution_count": null,
      "outputs": [
        {
          "output_type": "display_data",
          "data": {
            "image/png": "[encoded data removed]",
            "text/plain": [
              "<Figure size 432x288 with 1 Axes>"
            ]
          },
          "metadata": {
            "tags": [],
            "needs_background": "light"
          }
        }
      ]
    },
    {
      "cell_type": "code",
      "metadata": {
        "colab": {
          "base_uri": "https://localhost:8080/",
          "height": 265
        },
        "id": "NqUNpoujyVfZ",
        "outputId": "530d3e34-6db6-489a-898b-657313e91e33"
      },
      "source": [
        "df2 = data.groupby(['year', 'month'], as_index=False).mean()\n",
        "df2['date'] = df2.apply(lambda x: datetime(int(x.year), int(x.month), 1), axis=1)\n",
        "\n",
        "f, ax = plt.subplots(figsize=(15, 4))\n",
        "ax.plot(df2.date.values, df2.availability_60.values, label='Real target')\n",
        "ax.plot(df2.date.values[-3:], y_hat[:, 0], label='Predicted target')\n",
        "ax.legend();"
      ],
      "execution_count": null,
      "outputs": [
        {
          "output_type": "display_data",
          "data": {
            "image/png": "[encoded data removed]",
            "text/plain": [
              "<Figure size 1080x288 with 1 Axes>"
            ]
          },
          "metadata": {
            "tags": [],
            "needs_background": "light"
          }
        }
      ]
    },
    {
      "cell_type": "markdown",
      "metadata": {
        "id": "YeAxB5KS6cAK"
      },
      "source": [
        "## 7. Hyperparameter Tuning\n",
        "\n",
        "Now that we have a result, we are going to improve the quality of the prediction by doing hyperparameter tuning. The optimizer we are using is based in Gaussian Processs Optimization and its library is available [here](https://scikit-optimize.github.io/stable/). "
      ]
    },
    {
      "cell_type": "code",
      "metadata": {
        "colab": {
          "base_uri": "https://localhost:8080/"
        },
        "id": "IK6q_Lr8eV9F",
        "outputId": "4c153195-8e80-45ac-88cd-fe15c5b2779d"
      },
      "source": [
        "%%time\n",
        "\n",
        "def run_rnn(params):\n",
        "\n",
        "  hidden_size, learning_rate = params\n",
        "\n",
        "  n_seeds = 10\n",
        "  total_errors = np.zeros((Yt.shape[0], 1, n_seeds))\n",
        "\n",
        "  for seed in range(n_seeds):\n",
        "    torch.manual_seed(seed)\n",
        "    np.random.seed(seed)\n",
        "\n",
        "    lstm = LSTMRNN(hidden_size, X.shape[-1]).cuda()\n",
        "\n",
        "    criterion = nn.L1Loss()\n",
        "    lstm_optimizer = optim.Adam(lstm.parameters(), lr=learning_rate)\n",
        "\n",
        "    for i in range(10):\n",
        "        lstm.zero_grad()\n",
        "        \n",
        "        o = lstm(X)\n",
        "        loss = criterion(o, Y)\n",
        "        loss.backward()\n",
        "        lstm_optimizer.step()\n",
        "        \n",
        "        p = lstm(Xt)\n",
        "        p = p.detach().cpu()\n",
        "    \n",
        "    y_hat, error = evaluate_model(scalerY, Yt, p)\n",
        "    total_errors[:, :, seed] = error\n",
        "\n",
        "  avg_seed_error = total_errors.mean(axis=-1)\n",
        "  return avg_seed_error[0][0]  "
      ],
      "execution_count": null,
      "outputs": [
        {
          "output_type": "stream",
          "text": [
            "CPU times: user 3 µs, sys: 1e+03 ns, total: 4 µs\n",
            "Wall time: 6.91 µs\n"
          ],
          "name": "stdout"
        }
      ]
    },
    {
      "cell_type": "markdown",
      "metadata": {
        "id": "6FwB_cxv7OLm"
      },
      "source": [
        "The previous model was trained using the following hyperparameters:\n",
        "+ hidden_size = 100\n",
        "+ learning_rate = 1e-3\n",
        "\n",
        "Now, we are going to run 50 calls to the train_LSTM_train, looking for the pair of hyperparameters that minimize the prediction error."
      ]
    },
    {
      "cell_type": "code",
      "metadata": {
        "colab": {
          "base_uri": "https://localhost:8080/"
        },
        "id": "ALvZfSMNgeDy",
        "outputId": "96fbe0da-13c0-4341-d068-d59ede9cfe6d"
      },
      "source": [
        "space = [(10, 400),                       # hidden_size \n",
        "         (3e-5, 3e-1, 'log-uniform')]     # learning_rate\n",
        "\n",
        "res = gp_minimize(run_rnn, space, random_state=0, n_calls=50)\n",
        "\n",
        "hidden_size, learning_rate = res.x\n",
        "min_avg_error = res.fun\n",
        "\n",
        "print('Best parameters: \\n\\thidden_size = {}\\n\\tlearning_rate = {}\\n\\nMinimum avg error = {}'.format(hidden_size, learning_rate, min_avg_error))"
      ],
      "execution_count": null,
      "outputs": [
        {
          "output_type": "stream",
          "text": [
            "Best parameters: \n",
            "\thidden_size = 260\n",
            "\tlearning_rate = 0.0012080406410324108\n",
            "\n",
            "Minimum avg error = 0.9306983992457389\n"
          ],
          "name": "stdout"
        }
      ]
    },
    {
      "cell_type": "markdown",
      "metadata": {
        "id": "PUrovtIF7-Nv"
      },
      "source": [
        "Since we have the best pair of hyperparameters, we are going to retrain our model using all the dataset."
      ]
    },
    {
      "cell_type": "code",
      "metadata": {
        "id": "-famtKdKDjKv"
      },
      "source": [
        "fdf = data.groupby(['year', 'month'], as_index=False).mean()\n",
        "fdf = fdf[['year', 'CasosCovMesAnt', 'CasosCovMes', 'availability_30', 'month', 'availability_60']]\n",
        "\n",
        "fdf['sin_month'] = np.sin(2 * np.pi * fdf['month'] / 12)\n",
        "fdf['cos_month'] = np.cos(2 * np.pi * fdf['month'] / 12)\n",
        "fdf = fdf.drop(columns=['month'])"
      ],
      "execution_count": null,
      "outputs": []
    },
    {
      "cell_type": "code",
      "metadata": {
        "colab": {
          "base_uri": "https://localhost:8080/"
        },
        "id": "jifO0uu6EYvk",
        "outputId": "0fe4d4f8-5800-4ee2-f2b9-05db14d26591"
      },
      "source": [
        "X, Y = prep_seqs(fdf, scaler, scalerY)\n",
        "X = X.cuda()\n",
        "Y = Y.cuda()\n",
        "\n",
        "print('X shape: {} and Y shape: {}'.format(X.shape, Y.shape))\n",
        "# X shape is (steps, samples, features)"
      ],
      "execution_count": null,
      "outputs": [
        {
          "output_type": "stream",
          "text": [
            "X shape: torch.Size([3, 22, 7]) and Y shape: torch.Size([22, 3])\n"
          ],
          "name": "stdout"
        }
      ]
    },
    {
      "cell_type": "markdown",
      "metadata": {
        "id": "H_FLOa8L8LrH"
      },
      "source": [
        "After the hyperparameter tuning process, the error has decreased from **2.647** to **1.03**.\n"
      ]
    },
    {
      "cell_type": "code",
      "metadata": {
        "colab": {
          "base_uri": "https://localhost:8080/"
        },
        "id": "Jv2gOqVOyU_0",
        "outputId": "cd074cc3-6168-43f5-c625-9021bd51fcba"
      },
      "source": [
        "%%time\n",
        "best_lstm_model, new_y_hat, absolute_error = train_LSTM(X, Y, Xt, Yt, hidden_size, learning_rate)\n",
        "print('\\nEnsemble Avg Score = {:.5f}\\n'.format(absolute_error))"
      ],
      "execution_count": null,
      "outputs": [
        {
          "output_type": "stream",
          "text": [
            "Seed 0 - Error: 0.931\n",
            "Seed 1 - Error: 0.540\n",
            "Seed 2 - Error: 1.797\n",
            "Seed 3 - Error: 1.375\n",
            "Seed 4 - Error: 0.976\n",
            "Seed 5 - Error: 0.958\n",
            "Seed 6 - Error: 0.605\n",
            "Seed 7 - Error: 0.965\n",
            "Seed 8 - Error: 1.593\n",
            "Seed 9 - Error: 0.620\n",
            "\n",
            "Ensemble Avg Score = 1.03601\n",
            "\n",
            "CPU times: user 250 ms, sys: 9.94 ms, total: 260 ms\n",
            "Wall time: 257 ms\n"
          ],
          "name": "stdout"
        }
      ]
    },
    {
      "cell_type": "markdown",
      "metadata": {
        "id": "j0ic9Tpu8iWj"
      },
      "source": [
        "The current predicted values are closer to the real values than the previous ones."
      ]
    },
    {
      "cell_type": "code",
      "metadata": {
        "colab": {
          "base_uri": "https://localhost:8080/",
          "height": 282
        },
        "id": "LwoKb6pArlXA",
        "outputId": "5029bcc4-d74d-4598-9208-6943b5cfdb40"
      },
      "source": [
        "ndf_tuned = pd.DataFrame({'y_real': y_real[:,0], 'y_hat': new_y_hat[:,0]}, index=np.arange(y_hat.shape[0]))\n",
        "ndf_tuned.plot()"
      ],
      "execution_count": null,
      "outputs": [
        {
          "output_type": "execute_result",
          "data": {
            "text/plain": [
              "<matplotlib.axes._subplots.AxesSubplot at 0x7f5c983c4690>"
            ]
          },
          "metadata": {
            "tags": []
          },
          "execution_count": 214
        },
        {
          "output_type": "display_data",
          "data": {
            "image/png": "[encoded data removed]",
            "text/plain": [
              "<Figure size 432x288 with 1 Axes>"
            ]
          },
          "metadata": {
            "tags": [],
            "needs_background": "light"
          }
        }
      ]
    },
    {
      "cell_type": "code",
      "metadata": {
        "colab": {
          "base_uri": "https://localhost:8080/",
          "height": 265
        },
        "id": "a4Yb_SVkrtme",
        "outputId": "694812f7-987f-4b90-f8da-d7434f239f20"
      },
      "source": [
        "df2 = data.groupby(['year', 'month'], as_index=False).mean()\n",
        "df2['date'] = df2.apply(lambda x: datetime(int(x.year), int(x.month), 1), axis=1)\n",
        "\n",
        "f, ax = plt.subplots(figsize=(15, 4))\n",
        "ax.plot(df2.date.values, df.availability_60.values, label='Real target')\n",
        "ax.plot(df2.date.values[-3:], new_y_hat[:, 0], label='Predicted target')\n",
        "ax.legend();"
      ],
      "execution_count": null,
      "outputs": [
        {
          "output_type": "display_data",
          "data": {
            "image/png": "[encoded data removed]",
            "text/plain": [
              "<Figure size 1080x288 with 1 Axes>"
            ]
          },
          "metadata": {
            "tags": [],
            "needs_background": "light"
          }
        }
      ]
    },
    {
      "cell_type": "markdown",
      "metadata": {
        "id": "zR5wZyQF8vpz"
      },
      "source": [
        "## 8. Forcasting prediction\n",
        "\n",
        "The result values from the forecasting has been shown in orange, in the chart bellow. \n",
        "+ It has a gap between the last sample of the dataset and the first predicted value. This behavior could be related to the fact that the first forecasted value is a prediction of 3 months earler. At this point, COVID-19 indicators was not that good as it are nowadays;\n",
        "+ The patterns in 2019 was a strong decreasing in the listings availabiity. With the pandemic situation, the pattern at the same period of the year in 2020 was an slite increasement in the listings availability. The fact that the model was predicting a decreasement in the availability, shows that it has captured some patterns from the data."
      ]
    },
    {
      "cell_type": "code",
      "metadata": {
        "colab": {
          "base_uri": "https://localhost:8080/",
          "height": 265
        },
        "id": "T9wP6OYh00Fo",
        "outputId": "e62d1023-eafd-4af3-d481-788da04335ed"
      },
      "source": [
        "xtst = val.iloc[-3:]\n",
        "Xtst = scaler.transform(xtst.values)\n",
        "Xtst = np.expand_dims(Xtst, axis=1)\n",
        "Xtst = torch.from_numpy(Xtst).float().cuda()\n",
        "\n",
        "pred = best_lstm_model(Xtst)\n",
        "pred = pred.detach().cpu()\n",
        "forecast = scalerY.inverse_transform(pred.numpy().reshape(-1, 1))\n",
        "\n",
        "future_dates = df2.date.iloc[-3:] + timedelta(days=61)\n",
        "\n",
        "f, ax = plt.subplots(figsize=(15, 4))\n",
        "ax.plot(df2.date.values, df2.availability_60.values, label='Real target')\n",
        "ax.plot(future_dates.values, forecast[:, 0], label='Forecast target')\n",
        "ax.legend();"
      ],
      "execution_count": null,
      "outputs": [
        {
          "output_type": "display_data",
          "data": {
            "image/png": "[encoded data removed]",
            "text/plain": [
              "<Figure size 1080x288 with 1 Axes>"
            ]
          },
          "metadata": {
            "tags": [],
            "needs_background": "light"
          }
        }
      ]
    }
  ]
}