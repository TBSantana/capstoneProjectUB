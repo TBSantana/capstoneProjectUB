{
 "cells": [
  {
   "cell_type": "code",
   "execution_count": 6,
   "id": "182ec20e",
   "metadata": {},
   "outputs": [],
   "source": [
    "from pathlib import Path\n",
    "import pandas as pd\n",
    "import re\n",
    "\n",
    "import warnings\n",
    "warnings.filterwarnings('ignore')\n",
    "\n",
    "from IPython.display import display\n",
    "pd.options.display.max_columns = None"
   ]
  },
  {
   "cell_type": "code",
   "execution_count": 7,
   "id": "7804d7cf",
   "metadata": {},
   "outputs": [],
   "source": [
    "HOME = Path().resolve().parent.parent\n",
    "data_dir = str(HOME) + '/data/processed/'"
   ]
  },
  {
   "cell_type": "code",
   "execution_count": 8,
   "id": "97d665a8",
   "metadata": {},
   "outputs": [
    {
     "data": {
      "text/plain": [
       "(550752, 25)"
      ]
     },
     "execution_count": 8,
     "metadata": {},
     "output_type": "execute_result"
    }
   ],
   "source": [
    "df = pd.read_csv(data_dir + 'listings_notna.csv.gz', parse_dates=['last_scraped'])\n",
    "df.shape"
   ]
  },
  {
   "cell_type": "code",
   "execution_count": 9,
   "id": "09796ef0",
   "metadata": {},
   "outputs": [],
   "source": [
    "listings = df.copy()"
   ]
  },
  {
   "cell_type": "code",
   "execution_count": 10,
   "id": "9b8d8e74",
   "metadata": {},
   "outputs": [
    {
     "data": {
      "text/html": [
       "<div>\n",
       "<style scoped>\n",
       "    .dataframe tbody tr th:only-of-type {\n",
       "        vertical-align: middle;\n",
       "    }\n",
       "\n",
       "    .dataframe tbody tr th {\n",
       "        vertical-align: top;\n",
       "    }\n",
       "\n",
       "    .dataframe thead th {\n",
       "        text-align: right;\n",
       "    }\n",
       "</style>\n",
       "<table border=\"1\" class=\"dataframe\">\n",
       "  <thead>\n",
       "    <tr style=\"text-align: right;\">\n",
       "      <th></th>\n",
       "      <th>availability_60</th>\n",
       "      <th>CasosCovMesAnt</th>\n",
       "      <th>neighbourhood_group_cleansed</th>\n",
       "      <th>has_availability</th>\n",
       "      <th>longitude</th>\n",
       "      <th>beds</th>\n",
       "      <th>id</th>\n",
       "      <th>last_scraped</th>\n",
       "      <th>bedrooms</th>\n",
       "      <th>accommodates</th>\n",
       "      <th>room_type</th>\n",
       "      <th>number_of_reviews</th>\n",
       "      <th>CasosCovMes</th>\n",
       "      <th>file_date</th>\n",
       "      <th>price</th>\n",
       "      <th>availability_90</th>\n",
       "      <th>amenities</th>\n",
       "      <th>latitude</th>\n",
       "      <th>availability_30</th>\n",
       "      <th>availability_365</th>\n",
       "      <th>review_scores_rating</th>\n",
       "      <th>calendar_last_scraped</th>\n",
       "      <th>bathrooms</th>\n",
       "      <th>reviews_per_month</th>\n",
       "      <th>property_type</th>\n",
       "    </tr>\n",
       "  </thead>\n",
       "  <tbody>\n",
       "    <tr>\n",
       "      <th>0</th>\n",
       "      <td>0.0</td>\n",
       "      <td>0.0</td>\n",
       "      <td>Sant Martí</td>\n",
       "      <td>t</td>\n",
       "      <td>2.185545</td>\n",
       "      <td>4.0</td>\n",
       "      <td>18666.0</td>\n",
       "      <td>2019-01-15</td>\n",
       "      <td>2.0</td>\n",
       "      <td>6.0</td>\n",
       "      <td>Entire home/apt</td>\n",
       "      <td>1.0</td>\n",
       "      <td>0.0</td>\n",
       "      <td>1901</td>\n",
       "      <td>$130.00</td>\n",
       "      <td>0.0</td>\n",
       "      <td>{TV,Internet,Wifi,\"Air conditioning\",\"Wheelcha...</td>\n",
       "      <td>41.408886</td>\n",
       "      <td>0.0</td>\n",
       "      <td>6</td>\n",
       "      <td>80.0</td>\n",
       "      <td>2019-01-15</td>\n",
       "      <td>1.0</td>\n",
       "      <td>0.03</td>\n",
       "      <td>Apartment</td>\n",
       "    </tr>\n",
       "    <tr>\n",
       "      <th>1</th>\n",
       "      <td>27.0</td>\n",
       "      <td>0.0</td>\n",
       "      <td>Eixample</td>\n",
       "      <td>t</td>\n",
       "      <td>2.173058</td>\n",
       "      <td>6.0</td>\n",
       "      <td>18674.0</td>\n",
       "      <td>2019-01-14</td>\n",
       "      <td>3.0</td>\n",
       "      <td>8.0</td>\n",
       "      <td>Entire home/apt</td>\n",
       "      <td>5.0</td>\n",
       "      <td>0.0</td>\n",
       "      <td>1901</td>\n",
       "      <td>$60.00</td>\n",
       "      <td>55.0</td>\n",
       "      <td>{TV,Internet,Wifi,\"Air conditioning\",\"Wheelcha...</td>\n",
       "      <td>41.404197</td>\n",
       "      <td>12.0</td>\n",
       "      <td>326</td>\n",
       "      <td>85.0</td>\n",
       "      <td>2019-01-14</td>\n",
       "      <td>2.0</td>\n",
       "      <td>0.07</td>\n",
       "      <td>Apartment</td>\n",
       "    </tr>\n",
       "    <tr>\n",
       "      <th>2</th>\n",
       "      <td>23.0</td>\n",
       "      <td>0.0</td>\n",
       "      <td>Horta-Guinardó</td>\n",
       "      <td>t</td>\n",
       "      <td>2.170701</td>\n",
       "      <td>2.0</td>\n",
       "      <td>31377.0</td>\n",
       "      <td>2019-01-14</td>\n",
       "      <td>1.0</td>\n",
       "      <td>2.0</td>\n",
       "      <td>Private room</td>\n",
       "      <td>4.0</td>\n",
       "      <td>0.0</td>\n",
       "      <td>1901</td>\n",
       "      <td>$42.00</td>\n",
       "      <td>30.0</td>\n",
       "      <td>{Wifi,\"Air conditioning\",Kitchen,\"Paid parking...</td>\n",
       "      <td>41.410969</td>\n",
       "      <td>14.0</td>\n",
       "      <td>184</td>\n",
       "      <td>95.0</td>\n",
       "      <td>2019-01-14</td>\n",
       "      <td>1.0</td>\n",
       "      <td>0.09</td>\n",
       "      <td>Apartment</td>\n",
       "    </tr>\n",
       "    <tr>\n",
       "      <th>3</th>\n",
       "      <td>38.0</td>\n",
       "      <td>0.0</td>\n",
       "      <td>Horta-Guinardó</td>\n",
       "      <td>t</td>\n",
       "      <td>2.170819</td>\n",
       "      <td>2.0</td>\n",
       "      <td>31380.0</td>\n",
       "      <td>2019-01-14</td>\n",
       "      <td>1.0</td>\n",
       "      <td>3.0</td>\n",
       "      <td>Private room</td>\n",
       "      <td>39.0</td>\n",
       "      <td>0.0</td>\n",
       "      <td>1901</td>\n",
       "      <td>$53.00</td>\n",
       "      <td>47.0</td>\n",
       "      <td>{Wifi,\"Air conditioning\",Kitchen,\"Paid parking...</td>\n",
       "      <td>41.410900</td>\n",
       "      <td>24.0</td>\n",
       "      <td>204</td>\n",
       "      <td>87.0</td>\n",
       "      <td>2019-01-14</td>\n",
       "      <td>1.0</td>\n",
       "      <td>0.9</td>\n",
       "      <td>Apartment</td>\n",
       "    </tr>\n",
       "    <tr>\n",
       "      <th>4</th>\n",
       "      <td>52.0</td>\n",
       "      <td>0.0</td>\n",
       "      <td>Gràcia</td>\n",
       "      <td>t</td>\n",
       "      <td>2.159376</td>\n",
       "      <td>1.0</td>\n",
       "      <td>31958.0</td>\n",
       "      <td>2019-01-14</td>\n",
       "      <td>1.0</td>\n",
       "      <td>4.0</td>\n",
       "      <td>Entire home/apt</td>\n",
       "      <td>151.0</td>\n",
       "      <td>0.0</td>\n",
       "      <td>1901</td>\n",
       "      <td>$60.00</td>\n",
       "      <td>80.0</td>\n",
       "      <td>{TV,Wifi,\"Air conditioning\",Kitchen,Elevator,H...</td>\n",
       "      <td>41.409498</td>\n",
       "      <td>25.0</td>\n",
       "      <td>342</td>\n",
       "      <td>91.0</td>\n",
       "      <td>2019-01-14</td>\n",
       "      <td>1.0</td>\n",
       "      <td>1.57</td>\n",
       "      <td>Apartment</td>\n",
       "    </tr>\n",
       "  </tbody>\n",
       "</table>\n",
       "</div>"
      ],
      "text/plain": [
       "   availability_60  CasosCovMesAnt neighbourhood_group_cleansed  \\\n",
       "0              0.0             0.0                   Sant Martí   \n",
       "1             27.0             0.0                     Eixample   \n",
       "2             23.0             0.0               Horta-Guinardó   \n",
       "3             38.0             0.0               Horta-Guinardó   \n",
       "4             52.0             0.0                       Gràcia   \n",
       "\n",
       "  has_availability  longitude  beds       id last_scraped  bedrooms  \\\n",
       "0                t   2.185545   4.0  18666.0   2019-01-15       2.0   \n",
       "1                t   2.173058   6.0  18674.0   2019-01-14       3.0   \n",
       "2                t   2.170701   2.0  31377.0   2019-01-14       1.0   \n",
       "3                t   2.170819   2.0  31380.0   2019-01-14       1.0   \n",
       "4                t   2.159376   1.0  31958.0   2019-01-14       1.0   \n",
       "\n",
       "   accommodates        room_type  number_of_reviews  CasosCovMes  file_date  \\\n",
       "0           6.0  Entire home/apt                1.0          0.0       1901   \n",
       "1           8.0  Entire home/apt                5.0          0.0       1901   \n",
       "2           2.0     Private room                4.0          0.0       1901   \n",
       "3           3.0     Private room               39.0          0.0       1901   \n",
       "4           4.0  Entire home/apt              151.0          0.0       1901   \n",
       "\n",
       "     price  availability_90  \\\n",
       "0  $130.00              0.0   \n",
       "1   $60.00             55.0   \n",
       "2   $42.00             30.0   \n",
       "3   $53.00             47.0   \n",
       "4   $60.00             80.0   \n",
       "\n",
       "                                           amenities   latitude  \\\n",
       "0  {TV,Internet,Wifi,\"Air conditioning\",\"Wheelcha...  41.408886   \n",
       "1  {TV,Internet,Wifi,\"Air conditioning\",\"Wheelcha...  41.404197   \n",
       "2  {Wifi,\"Air conditioning\",Kitchen,\"Paid parking...  41.410969   \n",
       "3  {Wifi,\"Air conditioning\",Kitchen,\"Paid parking...  41.410900   \n",
       "4  {TV,Wifi,\"Air conditioning\",Kitchen,Elevator,H...  41.409498   \n",
       "\n",
       "   availability_30  availability_365 review_scores_rating  \\\n",
       "0              0.0                 6                 80.0   \n",
       "1             12.0               326                 85.0   \n",
       "2             14.0               184                 95.0   \n",
       "3             24.0               204                 87.0   \n",
       "4             25.0               342                 91.0   \n",
       "\n",
       "  calendar_last_scraped  bathrooms reviews_per_month property_type  \n",
       "0            2019-01-15        1.0              0.03     Apartment  \n",
       "1            2019-01-14        2.0              0.07     Apartment  \n",
       "2            2019-01-14        1.0              0.09     Apartment  \n",
       "3            2019-01-14        1.0               0.9     Apartment  \n",
       "4            2019-01-14        1.0              1.57     Apartment  "
      ]
     },
     "execution_count": 10,
     "metadata": {},
     "output_type": "execute_result"
    }
   ],
   "source": [
    "listings.head()"
   ]
  },
  {
   "cell_type": "markdown",
   "id": "05ba375f",
   "metadata": {},
   "source": [
    "### 1. Dropping useless columns"
   ]
  },
  {
   "cell_type": "code",
   "execution_count": 11,
   "id": "4e393193",
   "metadata": {},
   "outputs": [],
   "source": [
    "cols2drop = ['has_availability', 'calendar_last_scraped']\n",
    "\n",
    "# All values of 'has_availability' == 't'\n",
    "# The date in 'calendar_last_scraped' is equal to 'last_scraped'\n",
    "listings = listings.drop(columns=cols2drop)"
   ]
  },
  {
   "cell_type": "markdown",
   "id": "75013f5d",
   "metadata": {},
   "source": [
    "### 2. Dealing with numerical columns"
   ]
  },
  {
   "cell_type": "code",
   "execution_count": 12,
   "id": "9cb48e53",
   "metadata": {},
   "outputs": [],
   "source": [
    "numerical_features = ['beds','bedrooms', 'number_of_reviews', 'price', 'longitude', 'latitude', \n",
    "                      'bathrooms', 'id', 'reviews_per_month', 'availability_30', 'availability_60', \n",
    "                     'availability_90', 'availability_365', 'accommodates', 'review_scores_rating']"
   ]
  },
  {
   "cell_type": "code",
   "execution_count": 13,
   "id": "8f7b5096",
   "metadata": {},
   "outputs": [],
   "source": [
    "float2int = ['beds','bedrooms', 'number_of_reviews', 'bathrooms', 'id', 'availability_30', \n",
    "             'availability_60', 'availability_90', 'availability_365', 'accommodates']\n",
    "\n",
    "listings[float2int] = listings[float2int].applymap(lambda x: int(x))"
   ]
  },
  {
   "cell_type": "markdown",
   "id": "fb484a09",
   "metadata": {},
   "source": [
    "Remove any symbol different than digit and '.' from numerical float columns:"
   ]
  },
  {
   "cell_type": "code",
   "execution_count": 14,
   "id": "4c5e9a7e",
   "metadata": {},
   "outputs": [],
   "source": [
    "ncols2clean = ['price', 'reviews_per_month', 'review_scores_rating']\n",
    "\n",
    "regex = re.compile(r'(\\d+\\.\\d{1,2})')\n",
    "listings[ncols2clean] = listings[ncols2clean].applymap(lambda x: pd.to_numeric(re.search(regex, x).group(0)))"
   ]
  },
  {
   "cell_type": "markdown",
   "id": "07d061de",
   "metadata": {},
   "source": [
    "### 3. Removing listings with no avaibility"
   ]
  },
  {
   "cell_type": "code",
   "execution_count": 15,
   "id": "3e79fc1c",
   "metadata": {},
   "outputs": [],
   "source": [
    "idx2drop = listings[\n",
    "    (listings['availability_30'] == 0) & \n",
    "    (listings['availability_60'] == 0) &\n",
    "    (listings['availability_90'] == 0) & \n",
    "    (listings['availability_365'] == 0)].index"
   ]
  },
  {
   "cell_type": "code",
   "execution_count": 16,
   "id": "a79acc0b",
   "metadata": {
    "scrolled": true
   },
   "outputs": [
    {
     "name": "stdout",
     "output_type": "stream",
     "text": [
      "Removing 91957 rows from the dataset.\n"
     ]
    }
   ],
   "source": [
    "print('Removing {} rows from the dataset.'.format(len(idx2drop)))"
   ]
  },
  {
   "cell_type": "code",
   "execution_count": 17,
   "id": "5daefdb4",
   "metadata": {},
   "outputs": [],
   "source": [
    "unavailable_listings = listings.loc[idx2drop]\n",
    "listings = listings.drop(idx2drop)"
   ]
  },
  {
   "cell_type": "markdown",
   "id": "c60b3cfa",
   "metadata": {},
   "source": [
    "### 5. Save clean data"
   ]
  },
  {
   "cell_type": "code",
   "execution_count": 18,
   "id": "6b80667b",
   "metadata": {},
   "outputs": [],
   "source": [
    "listings.to_csv(data_dir + 'listings_clean.csv.gz', index=False)"
   ]
  },
  {
   "cell_type": "code",
   "execution_count": 19,
   "id": "fb417e9e",
   "metadata": {},
   "outputs": [],
   "source": [
    "unavailable_listings.to_csv(data_dir + 'unavailable_listings.csv.gz', index=False)"
   ]
  }
 ],
 "metadata": {
  "kernelspec": {
   "display_name": "Python 3",
   "language": "python",
   "name": "python3"
  },
  "language_info": {
   "codemirror_mode": {
    "name": "ipython",
    "version": 3
   },
   "file_extension": ".py",
   "mimetype": "text/x-python",
   "name": "python",
   "nbconvert_exporter": "python",
   "pygments_lexer": "ipython3",
   "version": "3.9.2"
  }
 },
 "nbformat": 4,
 "nbformat_minor": 5
}
