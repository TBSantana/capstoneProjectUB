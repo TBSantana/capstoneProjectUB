{
 "cells": [
  {
   "cell_type": "code",
   "execution_count": 1,
   "id": "182ec20e",
   "metadata": {},
   "outputs": [],
   "source": [
    "from pathlib import Path\n",
    "import pandas as pd\n",
    "import re\n",
    "\n",
    "import warnings\n",
    "warnings.filterwarnings('ignore')\n",
    "\n",
    "from IPython.display import display\n",
    "pd.options.display.max_columns = None"
   ]
  },
  {
   "cell_type": "code",
   "execution_count": 2,
   "id": "7804d7cf",
   "metadata": {},
   "outputs": [],
   "source": [
    "HOME = Path().resolve().parent.parent\n",
    "data_dir = str(HOME) + '/data/processed/'"
   ]
  },
  {
   "cell_type": "code",
   "execution_count": 5,
   "id": "97d665a8",
   "metadata": {},
   "outputs": [
    {
     "data": {
      "text/plain": [
       "(548412, 24)"
      ]
     },
     "execution_count": 5,
     "metadata": {},
     "output_type": "execute_result"
    }
   ],
   "source": [
    "df = pd.read_csv(data_dir + 'listings_notna.csv.gz', parse_dates=['last_scraped'])\n",
    "df.shape"
   ]
  },
  {
   "cell_type": "code",
   "execution_count": 17,
   "id": "825270bc",
   "metadata": {},
   "outputs": [],
   "source": [
    "listings = df.copy()"
   ]
  },
  {
   "cell_type": "code",
   "execution_count": 18,
   "id": "bf80eb16",
   "metadata": {},
   "outputs": [
    {
     "data": {
      "text/html": [
       "<div>\n",
       "<style scoped>\n",
       "    .dataframe tbody tr th:only-of-type {\n",
       "        vertical-align: middle;\n",
       "    }\n",
       "\n",
       "    .dataframe tbody tr th {\n",
       "        vertical-align: top;\n",
       "    }\n",
       "\n",
       "    .dataframe thead th {\n",
       "        text-align: right;\n",
       "    }\n",
       "</style>\n",
       "<table border=\"1\" class=\"dataframe\">\n",
       "  <thead>\n",
       "    <tr style=\"text-align: right;\">\n",
       "      <th></th>\n",
       "      <th>beds</th>\n",
       "      <th>bedrooms</th>\n",
       "      <th>number_of_reviews</th>\n",
       "      <th>file_date</th>\n",
       "      <th>amenities</th>\n",
       "      <th>calendar_last_scraped</th>\n",
       "      <th>longitude</th>\n",
       "      <th>room_type</th>\n",
       "      <th>bathrooms</th>\n",
       "      <th>price</th>\n",
       "      <th>host_location</th>\n",
       "      <th>id</th>\n",
       "      <th>reviews_per_month</th>\n",
       "      <th>availability_60</th>\n",
       "      <th>accommodates</th>\n",
       "      <th>review_scores_rating</th>\n",
       "      <th>property_type</th>\n",
       "      <th>last_scraped</th>\n",
       "      <th>latitude</th>\n",
       "      <th>availability_30</th>\n",
       "      <th>neighbourhood_group_cleansed</th>\n",
       "      <th>availability_90</th>\n",
       "      <th>availability_365</th>\n",
       "      <th>has_availability</th>\n",
       "    </tr>\n",
       "  </thead>\n",
       "  <tbody>\n",
       "    <tr>\n",
       "      <th>0</th>\n",
       "      <td>4.0</td>\n",
       "      <td>2.0</td>\n",
       "      <td>1.0</td>\n",
       "      <td>1901</td>\n",
       "      <td>{TV,Internet,Wifi,\"Air conditioning\",\"Wheelcha...</td>\n",
       "      <td>2019-01-15</td>\n",
       "      <td>2.185545</td>\n",
       "      <td>Entire home/apt</td>\n",
       "      <td>1.0</td>\n",
       "      <td>$130.00</td>\n",
       "      <td>Barcelona, Cataluña, Spain</td>\n",
       "      <td>18666.0</td>\n",
       "      <td>0.03</td>\n",
       "      <td>0.0</td>\n",
       "      <td>6.0</td>\n",
       "      <td>80.0</td>\n",
       "      <td>Apartment</td>\n",
       "      <td>2019-01-15</td>\n",
       "      <td>41.408886</td>\n",
       "      <td>0.0</td>\n",
       "      <td>Sant Martí</td>\n",
       "      <td>0.0</td>\n",
       "      <td>6</td>\n",
       "      <td>t</td>\n",
       "    </tr>\n",
       "    <tr>\n",
       "      <th>1</th>\n",
       "      <td>6.0</td>\n",
       "      <td>3.0</td>\n",
       "      <td>5.0</td>\n",
       "      <td>1901</td>\n",
       "      <td>{TV,Internet,Wifi,\"Air conditioning\",\"Wheelcha...</td>\n",
       "      <td>2019-01-14</td>\n",
       "      <td>2.173058</td>\n",
       "      <td>Entire home/apt</td>\n",
       "      <td>2.0</td>\n",
       "      <td>$60.00</td>\n",
       "      <td>Barcelona, Cataluña, Spain</td>\n",
       "      <td>18674.0</td>\n",
       "      <td>0.07</td>\n",
       "      <td>27.0</td>\n",
       "      <td>8.0</td>\n",
       "      <td>85.0</td>\n",
       "      <td>Apartment</td>\n",
       "      <td>2019-01-14</td>\n",
       "      <td>41.404197</td>\n",
       "      <td>12.0</td>\n",
       "      <td>Eixample</td>\n",
       "      <td>55.0</td>\n",
       "      <td>326</td>\n",
       "      <td>t</td>\n",
       "    </tr>\n",
       "    <tr>\n",
       "      <th>2</th>\n",
       "      <td>2.0</td>\n",
       "      <td>1.0</td>\n",
       "      <td>4.0</td>\n",
       "      <td>1901</td>\n",
       "      <td>{Wifi,\"Air conditioning\",Kitchen,\"Paid parking...</td>\n",
       "      <td>2019-01-14</td>\n",
       "      <td>2.170701</td>\n",
       "      <td>Private room</td>\n",
       "      <td>1.0</td>\n",
       "      <td>$42.00</td>\n",
       "      <td>Barcelona, Cataluña, Spain</td>\n",
       "      <td>31377.0</td>\n",
       "      <td>0.09</td>\n",
       "      <td>23.0</td>\n",
       "      <td>2.0</td>\n",
       "      <td>95.0</td>\n",
       "      <td>Apartment</td>\n",
       "      <td>2019-01-14</td>\n",
       "      <td>41.410969</td>\n",
       "      <td>14.0</td>\n",
       "      <td>Horta-Guinardó</td>\n",
       "      <td>30.0</td>\n",
       "      <td>184</td>\n",
       "      <td>t</td>\n",
       "    </tr>\n",
       "    <tr>\n",
       "      <th>3</th>\n",
       "      <td>2.0</td>\n",
       "      <td>1.0</td>\n",
       "      <td>39.0</td>\n",
       "      <td>1901</td>\n",
       "      <td>{Wifi,\"Air conditioning\",Kitchen,\"Paid parking...</td>\n",
       "      <td>2019-01-14</td>\n",
       "      <td>2.170819</td>\n",
       "      <td>Private room</td>\n",
       "      <td>1.0</td>\n",
       "      <td>$53.00</td>\n",
       "      <td>Barcelona, Cataluña, Spain</td>\n",
       "      <td>31380.0</td>\n",
       "      <td>0.9</td>\n",
       "      <td>38.0</td>\n",
       "      <td>3.0</td>\n",
       "      <td>87.0</td>\n",
       "      <td>Apartment</td>\n",
       "      <td>2019-01-14</td>\n",
       "      <td>41.410900</td>\n",
       "      <td>24.0</td>\n",
       "      <td>Horta-Guinardó</td>\n",
       "      <td>47.0</td>\n",
       "      <td>204</td>\n",
       "      <td>t</td>\n",
       "    </tr>\n",
       "    <tr>\n",
       "      <th>4</th>\n",
       "      <td>1.0</td>\n",
       "      <td>1.0</td>\n",
       "      <td>151.0</td>\n",
       "      <td>1901</td>\n",
       "      <td>{TV,Wifi,\"Air conditioning\",Kitchen,Elevator,H...</td>\n",
       "      <td>2019-01-14</td>\n",
       "      <td>2.159376</td>\n",
       "      <td>Entire home/apt</td>\n",
       "      <td>1.0</td>\n",
       "      <td>$60.00</td>\n",
       "      <td>Barcelona, Cataluña, Spain</td>\n",
       "      <td>31958.0</td>\n",
       "      <td>1.57</td>\n",
       "      <td>52.0</td>\n",
       "      <td>4.0</td>\n",
       "      <td>91.0</td>\n",
       "      <td>Apartment</td>\n",
       "      <td>2019-01-14</td>\n",
       "      <td>41.409498</td>\n",
       "      <td>25.0</td>\n",
       "      <td>Gràcia</td>\n",
       "      <td>80.0</td>\n",
       "      <td>342</td>\n",
       "      <td>t</td>\n",
       "    </tr>\n",
       "  </tbody>\n",
       "</table>\n",
       "</div>"
      ],
      "text/plain": [
       "   beds  bedrooms  number_of_reviews  file_date  \\\n",
       "0   4.0       2.0                1.0       1901   \n",
       "1   6.0       3.0                5.0       1901   \n",
       "2   2.0       1.0                4.0       1901   \n",
       "3   2.0       1.0               39.0       1901   \n",
       "4   1.0       1.0              151.0       1901   \n",
       "\n",
       "                                           amenities calendar_last_scraped  \\\n",
       "0  {TV,Internet,Wifi,\"Air conditioning\",\"Wheelcha...            2019-01-15   \n",
       "1  {TV,Internet,Wifi,\"Air conditioning\",\"Wheelcha...            2019-01-14   \n",
       "2  {Wifi,\"Air conditioning\",Kitchen,\"Paid parking...            2019-01-14   \n",
       "3  {Wifi,\"Air conditioning\",Kitchen,\"Paid parking...            2019-01-14   \n",
       "4  {TV,Wifi,\"Air conditioning\",Kitchen,Elevator,H...            2019-01-14   \n",
       "\n",
       "   longitude        room_type  bathrooms    price               host_location  \\\n",
       "0   2.185545  Entire home/apt        1.0  $130.00  Barcelona, Cataluña, Spain   \n",
       "1   2.173058  Entire home/apt        2.0   $60.00  Barcelona, Cataluña, Spain   \n",
       "2   2.170701     Private room        1.0   $42.00  Barcelona, Cataluña, Spain   \n",
       "3   2.170819     Private room        1.0   $53.00  Barcelona, Cataluña, Spain   \n",
       "4   2.159376  Entire home/apt        1.0   $60.00  Barcelona, Cataluña, Spain   \n",
       "\n",
       "        id reviews_per_month  availability_60  accommodates  \\\n",
       "0  18666.0              0.03              0.0           6.0   \n",
       "1  18674.0              0.07             27.0           8.0   \n",
       "2  31377.0              0.09             23.0           2.0   \n",
       "3  31380.0               0.9             38.0           3.0   \n",
       "4  31958.0              1.57             52.0           4.0   \n",
       "\n",
       "  review_scores_rating property_type last_scraped   latitude  availability_30  \\\n",
       "0                 80.0     Apartment   2019-01-15  41.408886              0.0   \n",
       "1                 85.0     Apartment   2019-01-14  41.404197             12.0   \n",
       "2                 95.0     Apartment   2019-01-14  41.410969             14.0   \n",
       "3                 87.0     Apartment   2019-01-14  41.410900             24.0   \n",
       "4                 91.0     Apartment   2019-01-14  41.409498             25.0   \n",
       "\n",
       "  neighbourhood_group_cleansed  availability_90  availability_365  \\\n",
       "0                   Sant Martí              0.0                 6   \n",
       "1                     Eixample             55.0               326   \n",
       "2               Horta-Guinardó             30.0               184   \n",
       "3               Horta-Guinardó             47.0               204   \n",
       "4                       Gràcia             80.0               342   \n",
       "\n",
       "  has_availability  \n",
       "0                t  \n",
       "1                t  \n",
       "2                t  \n",
       "3                t  \n",
       "4                t  "
      ]
     },
     "execution_count": 18,
     "metadata": {},
     "output_type": "execute_result"
    }
   ],
   "source": [
    "listings.head()"
   ]
  },
  {
   "cell_type": "markdown",
   "id": "05ba375f",
   "metadata": {},
   "source": [
    "### 1. Dropping useless columns"
   ]
  },
  {
   "cell_type": "code",
   "execution_count": 19,
   "id": "4e393193",
   "metadata": {},
   "outputs": [],
   "source": [
    "cols2drop = ['has_availability', 'calendar_last_scraped']\n",
    "\n",
    "# All values of 'has_availability' == 't'\n",
    "# The date in 'calendar_last_scraped' is equal to 'last_scraped'\n",
    "listings = listings.drop(columns=cols2drop)"
   ]
  },
  {
   "cell_type": "markdown",
   "id": "75013f5d",
   "metadata": {},
   "source": [
    "### 2. Dealing with numerical columns"
   ]
  },
  {
   "cell_type": "code",
   "execution_count": 20,
   "id": "f7cb37a7",
   "metadata": {},
   "outputs": [],
   "source": [
    "numerical_features = ['beds','bedrooms', 'number_of_reviews', 'price', 'longitude', 'latitude', \n",
    "                      'bathrooms', 'id', 'reviews_per_month', 'availability_30', 'availability_60', \n",
    "                     'availability_90', 'availability_365', 'accommodates', 'review_scores_rating']"
   ]
  },
  {
   "cell_type": "code",
   "execution_count": 22,
   "id": "77b3076b",
   "metadata": {},
   "outputs": [],
   "source": [
    "float2int = ['beds','bedrooms', 'number_of_reviews', 'bathrooms', 'id', 'availability_30', \n",
    "             'availability_60', 'availability_90', 'availability_365', 'accommodates']\n",
    "\n",
    "listings[float2int] = listings[float2int].applymap(lambda x: int(x))"
   ]
  },
  {
   "cell_type": "markdown",
   "id": "fb484a09",
   "metadata": {},
   "source": [
    "Remove any symbol different than digit and '.' from numerical float columns:"
   ]
  },
  {
   "cell_type": "code",
   "execution_count": 50,
   "id": "4c5e9a7e",
   "metadata": {},
   "outputs": [],
   "source": [
    "ncols2clean = ['price', 'reviews_per_month', 'review_scores_rating']\n",
    "\n",
    "regex = re.compile(r'(\\d+\\.\\d{1,2})')\n",
    "listings[ncols2clean] = listings[ncols2clean].applymap(lambda x: pd.to_numeric(re.search(regex, x).group(0)))"
   ]
  },
  {
   "cell_type": "markdown",
   "id": "07d061de",
   "metadata": {},
   "source": [
    "### 3. Removing listings with no avaibility"
   ]
  },
  {
   "cell_type": "code",
   "execution_count": 54,
   "id": "3e79fc1c",
   "metadata": {},
   "outputs": [],
   "source": [
    "idx2drop = listings[\n",
    "    (listings['availability_30'] == 0) & \n",
    "    (listings['availability_60'] == 0) &\n",
    "    (listings['availability_90'] == 0) & \n",
    "    (listings['availability_365'] == 0)].index"
   ]
  },
  {
   "cell_type": "code",
   "execution_count": 55,
   "id": "a79acc0b",
   "metadata": {
    "scrolled": true
   },
   "outputs": [
    {
     "name": "stdout",
     "output_type": "stream",
     "text": [
      "Removing 91425 rows from the dataset.\n"
     ]
    }
   ],
   "source": [
    "print('Removing {} rows from the dataset.'.format(len(idx2drop)))"
   ]
  },
  {
   "cell_type": "code",
   "execution_count": 56,
   "id": "5daefdb4",
   "metadata": {},
   "outputs": [],
   "source": [
    "unavailable_listings = listings.loc[idx2drop]\n",
    "listings = listings.drop(idx2drop)"
   ]
  },
  {
   "cell_type": "markdown",
   "id": "c60b3cfa",
   "metadata": {},
   "source": [
    "### 5. Save clean data"
   ]
  },
  {
   "cell_type": "code",
   "execution_count": 57,
   "id": "6b80667b",
   "metadata": {},
   "outputs": [],
   "source": [
    "listings.to_csv(data_dir + 'listings_clean.csv.gz', index=False)"
   ]
  }
 ],
 "metadata": {
  "kernelspec": {
   "display_name": "Python 3",
   "language": "python",
   "name": "python3"
  },
  "language_info": {
   "codemirror_mode": {
    "name": "ipython",
    "version": 3
   },
   "file_extension": ".py",
   "mimetype": "text/x-python",
   "name": "python",
   "nbconvert_exporter": "python",
   "pygments_lexer": "ipython3",
   "version": "3.9.2"
  }
 },
 "nbformat": 4,
 "nbformat_minor": 5
}
