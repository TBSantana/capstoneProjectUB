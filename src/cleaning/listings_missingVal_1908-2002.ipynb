{
 "cells": [
  {
   "cell_type": "code",
   "execution_count": 1,
   "id": "9961131e",
   "metadata": {},
   "outputs": [],
   "source": [
    "from pathlib import Path\n",
    "import os\n",
    "import glob\n",
    "import pandas as pd\n",
    "\n",
    "%matplotlib inline"
   ]
  },
  {
   "cell_type": "code",
   "execution_count": 577,
   "id": "e43206a0",
   "metadata": {},
   "outputs": [],
   "source": [
    "HOME = Path().resolve().parent.parent\n",
    "data_dir = str(HOME) + '/data/meus dados/'"
   ]
  },
  {
   "cell_type": "code",
   "execution_count": 578,
   "id": "76670168",
   "metadata": {},
   "outputs": [],
   "source": [
    "# use your path\n",
    "all_files = glob.glob(data_dir + \"*.csv.gz\")\n",
    "\n",
    "li = []\n",
    "\n",
    "for filename in all_files:\n",
    "    df = pd.read_csv(filename, index_col=None, header=0, low_memory=False)\n",
    "    li.append(df)\n",
    "    \n",
    "frame = pd.concat(li, axis=0, ignore_index=True)"
   ]
  },
  {
   "cell_type": "code",
   "execution_count": 579,
   "id": "1b308c86",
   "metadata": {},
   "outputs": [
    {
     "data": {
      "text/plain": [
       "(144067, 106)"
      ]
     },
     "execution_count": 579,
     "metadata": {},
     "output_type": "execute_result"
    }
   ],
   "source": [
    "frame.shape"
   ]
  },
  {
   "cell_type": "markdown",
   "id": "e7b76981",
   "metadata": {},
   "source": [
    "### 1. Removing columns pointed by Pol:"
   ]
  },
  {
   "cell_type": "code",
   "execution_count": 580,
   "id": "2d0660c1",
   "metadata": {},
   "outputs": [],
   "source": [
    "# Removed 'bathrooms_text' and 'number_of_reviews_l30d' from cols2drop\n",
    "\n",
    "cols2drop = ['listing_url', 'scrape_id', 'name', 'description',\n",
    "       'neighborhood_overview', 'picture_url', 'host_id', 'host_url',\n",
    "       'host_name', 'host_about',\n",
    "       'host_response_time', 'host_response_rate', 'host_acceptance_rate',\n",
    "       'host_is_superhost', 'host_thumbnail_url', 'host_picture_url', 'host_listings_count',\n",
    "       'host_total_listings_count', 'host_verifications',\n",
    "       'host_has_profile_pic', 'host_identity_verified', 'property_type', 'room_type', 'accommodates', 'bathrooms',\n",
    "        'amenities',\n",
    "       'minimum_nights', 'maximum_nights', 'minimum_minimum_nights',\n",
    "       'maximum_minimum_nights', 'minimum_maximum_nights',\n",
    "       'maximum_maximum_nights', 'minimum_nights_avg_ntm',\n",
    "       'maximum_nights_avg_ntm','host_since', 'neighbourhood',\n",
    "       'calendar_updated', 'review_scores_communication', 'review_scores_location', 'license', 'calculated_host_listings_count',\n",
    "       'calculated_host_listings_count_entire_homes',\n",
    "       'calculated_host_listings_count_private_rooms',\n",
    "       'calculated_host_listings_count_shared_rooms', 'host_neighbourhood',\n",
    "       'neighbourhood_cleansed', 'review_scores_accuracy', 'review_scores_cleanliness', 'review_scores_checkin', 'review_scores_value', \n",
    "       'number_of_reviews_ltm', 'first_review', \n",
    "       'last_review', 'instant_bookable']"
   ]
  },
  {
   "cell_type": "code",
   "execution_count": 581,
   "id": "bd57d865",
   "metadata": {},
   "outputs": [],
   "source": [
    "listings = frame.drop(columns=cols2drop).copy()"
   ]
  },
  {
   "cell_type": "markdown",
   "id": "4fcd15a2",
   "metadata": {},
   "source": [
    "### 2. Removing columns with more than 50% of missing values"
   ]
  },
  {
   "cell_type": "code",
   "execution_count": 582,
   "id": "62d6d9b5",
   "metadata": {},
   "outputs": [],
   "source": [
    "too_many_na = listings.loc[:, listings.isnull().sum().values > listings.shape[0]/2].columns.values"
   ]
  },
  {
   "cell_type": "code",
   "execution_count": 583,
   "id": "31581a96",
   "metadata": {},
   "outputs": [],
   "source": [
    "cols2drop = cols2drop + list(too_many_na)"
   ]
  },
  {
   "cell_type": "code",
   "execution_count": 584,
   "id": "764cfc71",
   "metadata": {},
   "outputs": [],
   "source": [
    "listings = frame.drop(columns=list(cols2drop))"
   ]
  },
  {
   "cell_type": "markdown",
   "id": "3e2e5a39",
   "metadata": {},
   "source": [
    "### 3. Dealing with the remaining missing values"
   ]
  },
  {
   "cell_type": "code",
   "execution_count": 585,
   "id": "77d5e299",
   "metadata": {},
   "outputs": [
    {
     "data": {
      "text/plain": [
       "access                  70098\n",
       "interaction             62921\n",
       "transit                 57857\n",
       "house_rules             48283\n",
       "security_deposit        42335\n",
       "space                   39413\n",
       "review_scores_rating    33485\n",
       "reviews_per_month       31928\n",
       "cleaning_fee            29686\n",
       "summary                  7773\n",
       "zipcode                  4085\n",
       "state                    3407\n",
       "host_location            1121\n",
       "beds                      781\n",
       "bedrooms                  139\n",
       "market                    115\n",
       "city                       32\n",
       "dtype: int64"
      ]
     },
     "execution_count": 585,
     "metadata": {},
     "output_type": "execute_result"
    }
   ],
   "source": [
    "count_na = listings.isna().sum()\n",
    "count_na[count_na > 0].sort_values(ascending=False)"
   ]
  },
  {
   "cell_type": "code",
   "execution_count": 586,
   "id": "35ee7466",
   "metadata": {},
   "outputs": [],
   "source": [
    "listings['access'].fillna('Not informed', inplace=True)\n",
    "\n",
    "listings['interaction'].fillna('Not informed', inplace=True)\n",
    "\n",
    "listings['transit'].fillna('Not informed', inplace=True)\n",
    "\n",
    "listings['house_rules'].fillna('Not informed', inplace=True)\n",
    "\n",
    "listings['security_deposit'].fillna('$0.00', inplace=True)\n",
    "\n",
    "listings['space'].fillna('Not informed', inplace=True)\n",
    "\n",
    "# Take the id of places without any 'review_scores_rating' and set its review to zero\n",
    "count_reviews = listings[['id', 'review_scores_rating']].groupby('id').count()\n",
    "ids_no_reviews = count_reviews[count_reviews.review_scores_rating == 0].index\n",
    "idx1 = listings[listings.id.isin(ids_no_reviews)].index\n",
    "listings.loc[idx1, 'review_scores_rating'] = 0.0\n",
    "\n",
    "# If a place has some 'review_scores_rating' and some misisng values, \n",
    "# fill the missing values with the median of its review\n",
    "median_review = listings[['id', 'review_scores_rating']].groupby('id').median()\n",
    "idx2 = listings[listings.review_scores_rating.isna()].index\n",
    "listings.loc[idx2, 'review_scores_rating'] = listings.loc[idx2, 'id'].map(lambda x: median_review.loc[x])\n",
    "\n",
    "listings['reviews_per_month'].fillna(0.0, inplace=True)\n",
    "\n",
    "listings['cleaning_fee'].fillna('$0.00', inplace=True)\n",
    "\n",
    "listings['summary'].fillna('Not informed', inplace=True)\n",
    "\n",
    "listings['state'].fillna('Catalunya', inplace=True)\n",
    "\n",
    "listings['zipcode'].fillna('08001', inplace=True)\n",
    "\n",
    "listings['city'].fillna('Barcelona', inplace=True)\n",
    "\n",
    "listings['market'].fillna('Barcelona', inplace=True)"
   ]
  },
  {
   "cell_type": "code",
   "execution_count": 587,
   "id": "66bbccfe",
   "metadata": {},
   "outputs": [
    {
     "data": {
      "text/plain": [
       "host_location    1121\n",
       "beds              781\n",
       "bedrooms          139\n",
       "dtype: int64"
      ]
     },
     "execution_count": 587,
     "metadata": {},
     "output_type": "execute_result"
    }
   ],
   "source": [
    "count_na = listings.isna().sum()\n",
    "count_na[count_na > 0].sort_values(ascending=False)"
   ]
  },
  {
   "cell_type": "markdown",
   "id": "00dcfe4f",
   "metadata": {},
   "source": [
    "### 4. Removing the row where there are less that 1% of missing values"
   ]
  },
  {
   "cell_type": "code",
   "execution_count": 588,
   "id": "86fee707",
   "metadata": {},
   "outputs": [],
   "source": [
    "# If a column has less than 1% of missing values and it is not trivial filling it, the row can be removed:\n",
    "listings = listings.dropna()"
   ]
  },
  {
   "cell_type": "markdown",
   "id": "c2b98fcd",
   "metadata": {},
   "source": [
    "### 5. Save processed dataset"
   ]
  },
  {
   "cell_type": "code",
   "execution_count": 589,
   "id": "c5b40163",
   "metadata": {},
   "outputs": [],
   "source": [
    "listings.to_csv(data_dir + 'listings_notna_1908-2002.csv', index=False)"
   ]
  },
  {
   "cell_type": "code",
   "execution_count": null,
   "id": "9b119994",
   "metadata": {},
   "outputs": [],
   "source": []
  }
 ],
 "metadata": {
  "kernelspec": {
   "display_name": "Python 3",
   "language": "python",
   "name": "python3"
  },
  "language_info": {
   "codemirror_mode": {
    "name": "ipython",
    "version": 3
   },
   "file_extension": ".py",
   "mimetype": "text/x-python",
   "name": "python",
   "nbconvert_exporter": "python",
   "pygments_lexer": "ipython3",
   "version": "3.9.2"
  }
 },
 "nbformat": 4,
 "nbformat_minor": 5
}
