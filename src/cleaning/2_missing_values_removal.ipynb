{
 "cells": [
  {
   "cell_type": "code",
   "execution_count": 25,
   "id": "9961131e",
   "metadata": {},
   "outputs": [],
   "source": [
    "from pathlib import Path\n",
    "import pandas as pd\n",
    "\n",
    "import warnings\n",
    "warnings.filterwarnings('ignore')\n",
    "\n",
    "from IPython.display import display\n",
    "pd.options.display.max_columns = None\n",
    "\n",
    "%matplotlib inline"
   ]
  },
  {
   "cell_type": "code",
   "execution_count": 26,
   "id": "e43206a0",
   "metadata": {},
   "outputs": [
    {
     "name": "stdout",
     "output_type": "stream",
     "text": [
      "The original dataset has 550766 rows and 25 columns.\n"
     ]
    }
   ],
   "source": [
    "HOME = Path().resolve().parent.parent\n",
    "data_dir = str(HOME) + '/data/processed/'\n",
    "\n",
    "df = pd.read_csv(data_dir + 'listings_agg.csv.gz')\n",
    "\n",
    "rows, cols = df.shape\n",
    "print('The original dataset has {} rows and {} columns.'.format(rows, cols))"
   ]
  },
  {
   "cell_type": "code",
   "execution_count": 29,
   "id": "f48e9de4",
   "metadata": {},
   "outputs": [],
   "source": [
    "listings = df.copy()"
   ]
  },
  {
   "cell_type": "markdown",
   "id": "4fcd15a2",
   "metadata": {},
   "source": [
    "## Dealing with missing values"
   ]
  },
  {
   "cell_type": "code",
   "execution_count": 30,
   "id": "59192033",
   "metadata": {},
   "outputs": [
    {
     "data": {
      "text/plain": [
       "bathrooms                       174165\n",
       "review_scores_rating            146655\n",
       "reviews_per_month               140309\n",
       "bedrooms                          6484\n",
       "beds                              6466\n",
       "CasosCovMes                         14\n",
       "CasosCovMesAnt                      14\n",
       "availability_60                      7\n",
       "amenities                            7\n",
       "calendar_last_scraped                7\n",
       "availability_365                     7\n",
       "availability_30                      7\n",
       "latitude                             7\n",
       "price                                7\n",
       "availability_90                      7\n",
       "number_of_reviews                    7\n",
       "room_type                            7\n",
       "accommodates                         7\n",
       "longitude                            7\n",
       "has_availability                     7\n",
       "neighbourhood_group_cleansed         7\n",
       "property_type                        7\n",
       "dtype: int64"
      ]
     },
     "execution_count": 30,
     "metadata": {},
     "output_type": "execute_result"
    }
   ],
   "source": [
    "count_na = df.isna().sum()\n",
    "count_na[count_na > 0].sort_values(ascending=False)"
   ]
  },
  {
   "cell_type": "markdown",
   "id": "00dcfe4f",
   "metadata": {},
   "source": [
    "### 1. Remove the rows where there are less that 1% of missing values"
   ]
  },
  {
   "cell_type": "markdown",
   "id": "4b983526",
   "metadata": {},
   "source": [
    "These 7 samples with missing values are those we have seen during the aggreagation process. Thus, removing then now, we do not have to deal with it during the cleaning process."
   ]
  },
  {
   "cell_type": "code",
   "execution_count": 31,
   "id": "e948a7e2",
   "metadata": {},
   "outputs": [],
   "source": [
    "listings['id'] = listings['id'].map(lambda x: pd.to_numeric(x, errors='coerce'))\n",
    "listings['review_scores_rating'] = listings['review_scores_rating'].map(lambda x: pd.to_numeric(x, errors='coerce'))\n",
    "\n",
    "# If a column has less than 1% of missing values and it is not trivial filling it, the row can be removed:\n",
    "listings = listings.dropna(\n",
    "    subset=['latitude', 'price' , \n",
    "          'number_of_reviews', 'longitude', 'availability_365', \n",
    "          'availability_60', 'file_date', 'has_availability', 'id', \n",
    "          'availability_30', 'neighbourhood_group_cleansed', \n",
    "          'availability_90', 'calendar_last_scraped', 'last_scraped']).copy()"
   ]
  },
  {
   "cell_type": "markdown",
   "id": "fb72ab44",
   "metadata": {},
   "source": [
    "It count how many remaining missing values are in the dataset:"
   ]
  },
  {
   "cell_type": "code",
   "execution_count": 32,
   "id": "77d5e299",
   "metadata": {
    "scrolled": true
   },
   "outputs": [
    {
     "data": {
      "text/plain": [
       "bathrooms               174156\n",
       "review_scores_rating    146648\n",
       "reviews_per_month       140295\n",
       "bedrooms                  6477\n",
       "beds                      6459\n",
       "dtype: int64"
      ]
     },
     "execution_count": 32,
     "metadata": {},
     "output_type": "execute_result"
    }
   ],
   "source": [
    "count_na = listings.isna().sum()\n",
    "count_na[count_na > 0].sort_values(ascending=False)"
   ]
  },
  {
   "cell_type": "markdown",
   "id": "b6f37a80",
   "metadata": {},
   "source": [
    "The most of ```bathrooms```, ```bedrooms``` and ```beds``` are filled by 1. So:"
   ]
  },
  {
   "cell_type": "code",
   "execution_count": 33,
   "id": "a087c81a",
   "metadata": {},
   "outputs": [],
   "source": [
    "listings[['bathrooms', 'bedrooms', 'beds']] = listings[['bathrooms', 'bedrooms', 'beds']].fillna(1)"
   ]
  },
  {
   "cell_type": "markdown",
   "id": "36c40a6a",
   "metadata": {},
   "source": [
    "For the ```reviews_per_month``` and ```reviews_per_month```, we need a different approach:\n",
    " + Fill in with zero when there is no reviews at all\n",
    " + Fill in with the median of the reviews for the same listing"
   ]
  },
  {
   "cell_type": "code",
   "execution_count": 34,
   "id": "e8e0e781",
   "metadata": {},
   "outputs": [],
   "source": [
    "def fill_reviews(df, identif, review):\n",
    "    \n",
    "    # Case 1: Take the id of places without any review and set its review to zero\n",
    "    count_reviews = df[[identif, review]].groupby(identif).count()\n",
    "    ids_no_reviews = count_reviews[count_reviews[review] == 0].index\n",
    "    idx1 = df[df[identif].isin(ids_no_reviews)].index\n",
    "    df.loc[idx1, review] = 0.0\n",
    "\n",
    "    # Case 2: If a place has some 'review' and some missing value, \n",
    "    # fill in the missing value with the median of its review\n",
    "    median_review = df[[identif, review]].groupby(identif).median()\n",
    "    idx2 = df[df[review].isna()].index\n",
    "    df.loc[idx2, review] = df.loc[idx2, identif].map(lambda x: median_review.loc[x])\n",
    "    \n",
    "    return df"
   ]
  },
  {
   "cell_type": "markdown",
   "id": "60231556",
   "metadata": {},
   "source": [
    "Filling in the missing values in the ```review_scores_rating``` column:"
   ]
  },
  {
   "cell_type": "code",
   "execution_count": 35,
   "id": "af6a03a1",
   "metadata": {},
   "outputs": [],
   "source": [
    "listings = fill_reviews(listings, 'id', 'review_scores_rating')"
   ]
  },
  {
   "cell_type": "markdown",
   "id": "106a4735",
   "metadata": {},
   "source": [
    "Filling the missing values in the ```reviews_per_month``` column:"
   ]
  },
  {
   "cell_type": "code",
   "execution_count": 36,
   "id": "b7159013",
   "metadata": {},
   "outputs": [],
   "source": [
    "listings = fill_reviews(listings, 'id', 'reviews_per_month')"
   ]
  },
  {
   "cell_type": "markdown",
   "id": "7de05077",
   "metadata": {},
   "source": [
    "The dataset now has no missing values"
   ]
  },
  {
   "cell_type": "code",
   "execution_count": 37,
   "id": "66bbccfe",
   "metadata": {},
   "outputs": [
    {
     "data": {
      "text/plain": [
       "Series([], dtype: int64)"
      ]
     },
     "execution_count": 37,
     "metadata": {},
     "output_type": "execute_result"
    }
   ],
   "source": [
    "count_na = listings.isna().sum()\n",
    "count_na[count_na > 0].sort_values(ascending=False)"
   ]
  },
  {
   "cell_type": "markdown",
   "id": "c2b98fcd",
   "metadata": {},
   "source": [
    "### 4. Save processed dataset"
   ]
  },
  {
   "cell_type": "code",
   "execution_count": 38,
   "id": "c5b40163",
   "metadata": {},
   "outputs": [],
   "source": [
    "listings.to_csv(data_dir + 'listings_notna.csv.gz', index=False)"
   ]
  }
 ],
 "metadata": {
  "kernelspec": {
   "display_name": "Python 3",
   "language": "python",
   "name": "python3"
  },
  "language_info": {
   "codemirror_mode": {
    "name": "ipython",
    "version": 3
   },
   "file_extension": ".py",
   "mimetype": "text/x-python",
   "name": "python",
   "nbconvert_exporter": "python",
   "pygments_lexer": "ipython3",
   "version": "3.9.2"
  }
 },
 "nbformat": 4,
 "nbformat_minor": 5
}
