{
 "cells": [
  {
   "cell_type": "code",
   "execution_count": 1,
   "id": "182ec20e",
   "metadata": {},
   "outputs": [],
   "source": [
    "from pathlib import Path\n",
    "import pandas as pd\n",
    "import re\n",
    "\n",
    "import warnings\n",
    "warnings.filterwarnings('ignore')\n",
    "\n",
    "from IPython.display import display\n",
    "pd.options.display.max_columns = None"
   ]
  },
  {
   "cell_type": "code",
   "execution_count": 2,
   "id": "7804d7cf",
   "metadata": {},
   "outputs": [],
   "source": [
    "HOME = Path().resolve().parent.parent\n",
    "data_dir = str(HOME) + '/data/meus dados/'"
   ]
  },
  {
   "cell_type": "code",
   "execution_count": 3,
   "id": "97d665a8",
   "metadata": {},
   "outputs": [
    {
     "data": {
      "text/plain": [
       "(142050, 44)"
      ]
     },
     "execution_count": 3,
     "metadata": {},
     "output_type": "execute_result"
    }
   ],
   "source": [
    "listings = pd.read_csv(data_dir + 'listings_notna_1908-2002.csv', parse_dates=['last_scraped'])\n",
    "listings.shape"
   ]
  },
  {
   "cell_type": "markdown",
   "id": "05ba375f",
   "metadata": {},
   "source": [
    "### 1. Dropping useless columns"
   ]
  },
  {
   "cell_type": "code",
   "execution_count": 4,
   "id": "4e393193",
   "metadata": {},
   "outputs": [],
   "source": [
    "cols2drop = ['experiences_offered', 'requires_license', 'is_business_travel_ready', \n",
    "             'has_availability', 'calendar_last_scraped']\n",
    "\n",
    "# All values of 'experiences_offered' == 'none'\n",
    "# All values of 'requires_license' == 't'\n",
    "# All values of 'is_business_travel_ready' == 'f'\n",
    "# All values of 'has_availability' == 't'\n",
    "# The date in 'calendar_last_scraped' == 'last_scraped'\n",
    "listings = listings.drop(columns=cols2drop)"
   ]
  },
  {
   "cell_type": "markdown",
   "id": "75013f5d",
   "metadata": {},
   "source": [
    "### 2. Dealing with numerical columns"
   ]
  },
  {
   "cell_type": "markdown",
   "id": "fb484a09",
   "metadata": {},
   "source": [
    "Remove the dollar symbol from numerical columns:"
   ]
  },
  {
   "cell_type": "code",
   "execution_count": 5,
   "id": "4c5e9a7e",
   "metadata": {},
   "outputs": [],
   "source": [
    "ncols2clean = ['price', 'security_deposit', 'cleaning_fee', 'extra_people']"
   ]
  },
  {
   "cell_type": "code",
   "execution_count": 6,
   "id": "27494b92",
   "metadata": {},
   "outputs": [],
   "source": [
    "listings[ncols2clean] = listings[ncols2clean].applymap(lambda x: float(x.replace('$', '').replace(',', '')))"
   ]
  },
  {
   "cell_type": "markdown",
   "id": "00f78280",
   "metadata": {},
   "source": [
    "Clean string garbage from the 'review_scores_rating' column (float type):"
   ]
  },
  {
   "cell_type": "code",
   "execution_count": 7,
   "id": "47467f6c",
   "metadata": {},
   "outputs": [],
   "source": [
    "# This regex take anything different of number and '.' \n",
    "regex = r'[^\\d^\\.]'\n",
    "\n",
    "listings['review_scores_rating'] = listings['review_scores_rating'].map(\n",
    "    lambda x: pd.to_numeric(re.sub(regex, '', x)) if isinstance(x, str) else x)"
   ]
  },
  {
   "cell_type": "markdown",
   "id": "07d061de",
   "metadata": {},
   "source": [
    "### 3. Removing listings with no avaibility"
   ]
  },
  {
   "cell_type": "code",
   "execution_count": 8,
   "id": "3e79fc1c",
   "metadata": {},
   "outputs": [],
   "source": [
    "idx2drop = listings[\n",
    "    (listings['availability_30'] == 0) & \n",
    "    (listings['availability_60'] == 0) &\n",
    "    (listings['availability_90'] == 0) & \n",
    "    (listings['availability_365'] == 0)].index"
   ]
  },
  {
   "cell_type": "code",
   "execution_count": 9,
   "id": "5daefdb4",
   "metadata": {},
   "outputs": [],
   "source": [
    "listings = listings.drop(idx2drop)"
   ]
  },
  {
   "cell_type": "markdown",
   "id": "2ed1f0e0",
   "metadata": {},
   "source": [
    "### 4. Replacing string by numerical values"
   ]
  },
  {
   "cell_type": "code",
   "execution_count": 10,
   "id": "c9ca892d",
   "metadata": {},
   "outputs": [],
   "source": [
    "bool_mapper = {'f': 0, 't': 1}\n",
    "\n",
    "listings[['require_guest_profile_picture', 'require_guest_phone_verification', 'is_location_exact']] = \\\n",
    "listings[['require_guest_profile_picture', 'require_guest_phone_verification', 'is_location_exact']].replace(bool_mapper)"
   ]
  },
  {
   "cell_type": "markdown",
   "id": "c60b3cfa",
   "metadata": {},
   "source": [
    "### 5. Save clean data"
   ]
  },
  {
   "cell_type": "code",
   "execution_count": 11,
   "id": "6b80667b",
   "metadata": {},
   "outputs": [],
   "source": [
    "listings.to_csv(data_dir + 'listings_clean_1908-2002.csv', index=False)"
   ]
  }
 ],
 "metadata": {
  "kernelspec": {
   "display_name": "Python 3",
   "language": "python",
   "name": "python3"
  },
  "language_info": {
   "codemirror_mode": {
    "name": "ipython",
    "version": 3
   },
   "file_extension": ".py",
   "mimetype": "text/x-python",
   "name": "python",
   "nbconvert_exporter": "python",
   "pygments_lexer": "ipython3",
   "version": "3.9.2"
  }
 },
 "nbformat": 4,
 "nbformat_minor": 5
}
