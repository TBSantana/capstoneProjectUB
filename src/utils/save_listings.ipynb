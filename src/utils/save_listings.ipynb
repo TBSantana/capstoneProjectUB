{
 "cells": [
  {
   "cell_type": "code",
   "execution_count": 58,
   "id": "44bfb328",
   "metadata": {},
   "outputs": [],
   "source": [
    "import requests\n",
    "import os"
   ]
  },
  {
   "cell_type": "markdown",
   "id": "fd421aec",
   "metadata": {},
   "source": [
    "### 1. Open file of links and save the urls in a list\n",
    "\n",
    "**Note:** The file links2download.txt must exists in the current folder."
   ]
  },
  {
   "cell_type": "code",
   "execution_count": 59,
   "id": "d34e846f",
   "metadata": {},
   "outputs": [],
   "source": [
    "with open('links2download.txt', 'r') as f:\n",
    "    urls = [url.strip() for url in f.readlines()]"
   ]
  },
  {
   "cell_type": "markdown",
   "id": "5e75a9a4",
   "metadata": {},
   "source": [
    "### 2. Create a backup folder where the files will be stored"
   ]
  },
  {
   "cell_type": "code",
   "execution_count": 60,
   "id": "44d3709c",
   "metadata": {},
   "outputs": [],
   "source": [
    "if not os.path.isdir('datasets'):\n",
    "    os.mkdir('datasets')\n",
    "    os.mkdir('datasets/airbnb')\n",
    "    os.mkdir('datasets/airbnb/backup')\n",
    "elif not os.path.isdir('datasets/airbnb'):\n",
    "    os.mkdir('datasets/airbnb')\n",
    "    os.mkdir('datasets/airbnb/backup')\n",
    "elif not os.path.isdir('datasets/airbnb/backup'):\n",
    "    os.mkdir('datasets/airbnb/backup')"
   ]
  },
  {
   "cell_type": "code",
   "execution_count": 61,
   "id": "72a714cd",
   "metadata": {},
   "outputs": [],
   "source": [
    "def download_file(url):    \n",
    "    \n",
    "    date = url.split('/')[8][2:].replace('-', '')\n",
    "    filename = f'listings_{date}.csv.gz'\n",
    "    filepath = os.path.join('datasets', 'airbnb', 'backup', filename)\n",
    "    \n",
    "    if not os.path.isfile(filepath):\n",
    "        response = requests.get(url)\n",
    "        open(filepath, 'wb').write(response.content)\n",
    "    \n",
    "    return filename"
   ]
  },
  {
   "cell_type": "markdown",
   "id": "6f01fc9e",
   "metadata": {},
   "source": [
    "### 3. Save file from each url"
   ]
  },
  {
   "cell_type": "code",
   "execution_count": 62,
   "id": "bbd96dbf",
   "metadata": {},
   "outputs": [],
   "source": [
    "filenames = [download_file(url) for url in urls]"
   ]
  }
 ],
 "metadata": {
  "kernelspec": {
   "display_name": "Python 3",
   "language": "python",
   "name": "python3"
  },
  "language_info": {
   "codemirror_mode": {
    "name": "ipython",
    "version": 3
   },
   "file_extension": ".py",
   "mimetype": "text/x-python",
   "name": "python",
   "nbconvert_exporter": "python",
   "pygments_lexer": "ipython3",
   "version": "3.9.2"
  }
 },
 "nbformat": 4,
 "nbformat_minor": 5
}
